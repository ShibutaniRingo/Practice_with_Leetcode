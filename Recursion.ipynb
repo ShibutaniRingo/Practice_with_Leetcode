{
 "cells": [
  {
   "cell_type": "markdown",
   "metadata": {},
   "source": [
    "<h1>Recursion</h1>"
   ]
  },
  {
   "cell_type": "markdown",
   "metadata": {},
   "source": [
    "<h3>Write a function that reverses a string.</h3>\n",
    "<p>The input string is given as an array of characters char.\n",
    "<p>Do not allocate extra space for another array, you must do this by modifying the input array in-place with O(1) extra memory.\n",
    "<p>You may assume all the characters consist of printable ascii characters."
   ]
  },
  {
   "cell_type": "markdown",
   "metadata": {},
   "source": [
    "<h3>Example</h3>\n",
    "<p>Input: [\"h\",\"e\",\"l\",\"l\",\"o\"]\n",
    "<p>Output: [\"o\",\"l\",\"l\",\"e\",\"h\"]"
   ]
  },
  {
   "cell_type": "markdown",
   "metadata": {},
   "source": [
    "<h3>You can easily solve this problem iteratively</h3>\n",
    "i.e. looping through the string starting from its last character. But how about solving it recursively?\n",
    "\n",
    "First, we can define the desired function as <strong>printReverse(str[0...n-1])</strong>, where <strong>str[0]</strong> represents the first character in the string. Then we can accomplish the given task in two steps:\n",
    "<ol>\n",
    "<li>printReverse(str[1...n-1]): print the substring str[1...n-1] in reverse order.</li>\n",
    "<li>print(str[0]): print the first character in the string.</li>\n",
    "</ol>"
   ]
  },
  {
   "cell_type": "code",
   "execution_count": 1,
   "metadata": {},
   "outputs": [],
   "source": [
    "def reverseString(s) -> None:\n",
    "    \"\"\"\n",
    "    Do not return anything, modify s in-place instead.\n",
    "    \"\"\"\n",
    "    head = 0\n",
    "    tail = len(s) - 1\n",
    "    while head <= tail:\n",
    "        ans = s[head]\n",
    "        s[head] = s[tail]\n",
    "        s[tail] = ans\n",
    "        head = head + 1\n",
    "        tail = tail - 1"
   ]
  },
  {
   "cell_type": "code",
   "execution_count": 2,
   "metadata": {},
   "outputs": [
    {
     "data": {
      "text/plain": [
       "['o', 'l', 'l', 'e', 'h']"
      ]
     },
     "execution_count": 2,
     "metadata": {},
     "output_type": "execute_result"
    }
   ],
   "source": [
    "s=[\"h\",\"e\",\"l\",\"l\",\"o\"]\n",
    "reverseString(s)\n",
    "s"
   ]
  },
  {
   "cell_type": "code",
   "execution_count": 110,
   "metadata": {},
   "outputs": [],
   "source": [
    "def reverseString_recursive(s) :\n",
    "    for i in range(len(s)):\n",
    "        if len(s) > 1:\n",
    "            a = [s[-1]]  +  reverseString_recursive(s[0:-1])\n",
    "        else:\n",
    "            a = s\n",
    "        return a"
   ]
  },
  {
   "cell_type": "code",
   "execution_count": 111,
   "metadata": {},
   "outputs": [
    {
     "data": {
      "text/plain": [
       "['o', 'l', 'l', 'e', 'h']"
      ]
     },
     "execution_count": 111,
     "metadata": {},
     "output_type": "execute_result"
    }
   ],
   "source": [
    "s=[\"h\",\"e\",\"l\",\"l\",\"o\"]\n",
    "reverseString_recursive(s)"
   ]
  },
  {
   "cell_type": "code",
   "execution_count": null,
   "metadata": {},
   "outputs": [],
   "source": []
  },
  {
   "cell_type": "code",
   "execution_count": null,
   "metadata": {},
   "outputs": [],
   "source": []
  }
 ],
 "metadata": {
  "kernelspec": {
   "display_name": "Python 3",
   "language": "python",
   "name": "python3"
  },
  "language_info": {
   "codemirror_mode": {
    "name": "ipython",
    "version": 3
   },
   "file_extension": ".py",
   "mimetype": "text/x-python",
   "name": "python",
   "nbconvert_exporter": "python",
   "pygments_lexer": "ipython3",
   "version": "3.6.8"
  }
 },
 "nbformat": 4,
 "nbformat_minor": 2
}
