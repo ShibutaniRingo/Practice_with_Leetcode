{
 "cells": [
  {
   "cell_type": "markdown",
   "metadata": {},
   "source": [
    "<h1><font color=#1661AB>Algorithm</font color=#1661AB></h1>"
   ]
  },
  {
   "cell_type": "markdown",
   "metadata": {},
   "source": [
    "<h3><font color=#1661AB>Number of Steps to Reduce a Number to Zero</font color=#1661AB></h3>\n",
    "<p>Given a non-negative integer num, return the number of steps to reduce it to zero. If the current number is even, you have to divide it by 2, otherwise, you have to subtract 1 from it."
   ]
  },
  {
   "cell_type": "code",
   "execution_count": 7,
   "metadata": {},
   "outputs": [],
   "source": [
    "def cal_step(num):\n",
    "    result = 0\n",
    "    if num == 0:\n",
    "        result = 0\n",
    "    while num != 0:\n",
    "        if num % 2 == 0:\n",
    "            result = result+1\n",
    "            num = num // 2\n",
    "        else:\n",
    "            result = result+1\n",
    "            num = num - 1      \n",
    "    return result"
   ]
  },
  {
   "cell_type": "markdown",
   "metadata": {},
   "source": [
    "<font color=#207F4C>本题实际上做了什么：二进制的位数 </font color=#207F4C>"
   ]
  },
  {
   "cell_type": "code",
   "execution_count": 20,
   "metadata": {},
   "outputs": [
    {
     "data": {
      "text/plain": [
       "6"
      ]
     },
     "execution_count": 20,
     "metadata": {},
     "output_type": "execute_result"
    }
   ],
   "source": [
    "def numberOfSteps (num: int) -> int:\n",
    "        digits = f'{num:b}'\n",
    "        return len(digits)-1 +digits.count(\"1\")\n",
    "    #len(digits)实际上数的是除以二的次数+1（最后剩下一位），digits.count(\"1\")数的是-1的次数\n",
    "numberOfSteps(14)"
   ]
  },
  {
   "cell_type": "markdown",
   "metadata": {},
   "source": [
    "<h3><font color=#1661AB>How Many Numbers Are Smaller Than the Current Number</font color=#1661AB></h3>\n",
    "<p>本题实际上就是SQLranking的思路，如何实现同点的并列是point\n"
   ]
  },
  {
   "cell_type": "code",
   "execution_count": 26,
   "metadata": {},
   "outputs": [
    {
     "data": {
      "text/plain": [
       "[4, 0, 1, 1, 3]"
      ]
     },
     "execution_count": 26,
     "metadata": {},
     "output_type": "execute_result"
    }
   ],
   "source": [
    "def smallerNumbersThanCurrent(nums):\n",
    "        indices = {} #用dict的immutable特性实现同点并列，如果有了就不会改变\n",
    "        for idx, num in enumerate(sorted(nums)):\n",
    "            indices.setdefault(num, idx)\n",
    "            #The setdefault() method returns the value of the item with the specified key.\n",
    "            #If the key does not exist, insert the key, with the specified value, see example below\n",
    "        return [indices[num] for num in nums]\n",
    "smallerNumbersThanCurrent([8,1,2,2,4])"
   ]
  },
  {
   "cell_type": "code",
   "execution_count": 27,
   "metadata": {},
   "outputs": [
    {
     "data": {
      "text/plain": [
       "[range(0, 4)]"
      ]
     },
     "execution_count": 27,
     "metadata": {},
     "output_type": "execute_result"
    }
   ],
   "source": []
  },
  {
   "cell_type": "code",
   "execution_count": null,
   "metadata": {},
   "outputs": [],
   "source": []
  }
 ],
 "metadata": {
  "kernelspec": {
   "display_name": "Python 3",
   "language": "python",
   "name": "python3"
  },
  "language_info": {
   "codemirror_mode": {
    "name": "ipython",
    "version": 3
   },
   "file_extension": ".py",
   "mimetype": "text/x-python",
   "name": "python",
   "nbconvert_exporter": "python",
   "pygments_lexer": "ipython3",
   "version": "3.6.8"
  }
 },
 "nbformat": 4,
 "nbformat_minor": 2
}
