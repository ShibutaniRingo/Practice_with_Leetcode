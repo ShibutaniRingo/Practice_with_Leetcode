{
 "cells": [
  {
   "cell_type": "code",
   "execution_count": 1,
   "metadata": {},
   "outputs": [],
   "source": [
    "import sqlite3\n",
    "conn = sqlite3.connect(':memory:')\n",
    "c = conn.cursor()\n",
    "\n",
    "\n",
    "def create_tables_sql():\n",
    "    return \"\"\"\n",
    "    create table salary (\n",
    "       id int,\n",
    "       employee_id int,\n",
    "       amount int,\n",
    "       pay_date date\n",
    "    );\n",
    "    create table employee (\n",
    "       employee_id int,\n",
    "       department_id int\n",
    "    );\n",
    "    \"\"\"\n",
    "\n",
    "\n",
    "c.executescript(create_tables_sql())\n",
    "conn.commit()"
   ]
  },
  {
   "cell_type": "code",
   "execution_count": null,
   "metadata": {},
   "outputs": [],
   "source": [
    "def insert_data_sql() -> str:\n",
    "    return\"\"\"\n",
    "    insert into salary values (1,1,9000,\"2017-03-31\");\n",
    "    insert into salary values (2,2,6000,\"2017-03-31\");\n",
    "    insert into salary values (3,3,10000,\"2017-03-31\");\n",
    "    insert into salary values (4,1,7000,\"2017-02-28\");\n",
    "    insert into salary values (5,2,6000,\"2017-02-28\");\n",
    "    insert into salary values (6,3,8000,\"2017-02-28\");\n",
    "    insert into employee values (1,1);\n",
    "    insert into employee values (2,2);\n",
    "    insert into employee values (3,2);\n",
    "    \"\"\"\n",
    "\n",
    "\n",
    "c.executescript(insert_data_sql())\n",
    "conn.commit()"
   ]
  },
  {
   "cell_type": "code",
   "execution_count": null,
   "metadata": {},
   "outputs": [],
   "source": [
    "def get_sql():\n",
    "    return \"\"\"\n",
    "        with total_avg as (\n",
    "                 select s.pay_date,avg(s.amount) as 'total'\n",
    "                 from salary s\n",
    "                 group by s.pay_date\n",
    "            )\n",
    "             select strftime('%Y-%m',s.pay_date) as pay_month,\n",
    "                e.department_id,\n",
    "                (case when avg(s.amount) > total then 'higher'\n",
    "                         when avg(s.amount) < total then 'lower'\n",
    "                         else 'same'\n",
    "                end) as 'comparison'\n",
    "             from salary s\n",
    "                 join employee e on s.employee_id = e.employee_id\n",
    "                 join total_avg on s.pay_date = total_avg.pay_date\n",
    "                 group by e.department_id, s.pay_date\n",
    "                 order by s.pay_date desc;\n",
    "    \"\"\"\n",
    "\n",
    "c.execute(get_sql())\n",
    "result = c.fetchall()\n",
    "result"
   ]
  }
 ],
 "metadata": {
  "kernelspec": {
   "display_name": "Python 3",
   "language": "python",
   "name": "python3"
  },
  "language_info": {
   "codemirror_mode": {
    "name": "ipython",
    "version": 3
   },
   "file_extension": ".py",
   "mimetype": "text/x-python",
   "name": "python",
   "nbconvert_exporter": "python",
   "pygments_lexer": "ipython3",
   "version": "3.6.8"
  }
 },
 "nbformat": 4,
 "nbformat_minor": 2
}
