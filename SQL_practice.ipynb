{
 "cells": [
  {
   "cell_type": "markdown",
   "metadata": {},
   "source": [
    "<h1><font color=#1661AB>SQL Practice</font color=#1661AB></h1>"
   ]
  },
  {
   "cell_type": "markdown",
   "metadata": {},
   "source": [
    "<h3><font color=#1661AB>Second Highest Salary</font color=#1661AB></h3>\n",
    "<p>Write a SQL <strong>query</strong> to get the second highest salary from the Employee table.\n",
    "<p>If there is no second highest salary, then the query should return null."
   ]
  },
  {
   "cell_type": "code",
   "execution_count": null,
   "metadata": {},
   "outputs": [],
   "source": [
    "\"\"\"\n",
    "SELECT (\n",
    "    SELECT DISTINCT e.Salary \n",
    "    FROM Employee e\n",
    "    ORDER BY e.Salary DESC \n",
    "    LIMIT 1 OFFSET 1 ) \n",
    "AS \"SecondHighestSalary\";\n",
    "\"\"\""
   ]
  },
  {
   "cell_type": "markdown",
   "metadata": {},
   "source": [
    "<h3><font color=#1661AB>N-th Highest Salary</font color=#1661AB></h3>\n",
    "<p>Write a SQL <strong>Function</strong> to get the second highest salary from the Employee table.\n",
    "<p>If there is no second highest salary, then the query should return null."
   ]
  },
  {
   "cell_type": "code",
   "execution_count": null,
   "metadata": {},
   "outputs": [],
   "source": [
    "\"\"\"\n",
    "CREATE FUNCTION getNthHighestSalary(N INT) RETURNS INT\n",
    "BEGIN\n",
    "DECLARE miu INT;\n",
    "SET miu = N - 1;\n",
    "  RETURN (\n",
    "      SELECT DISTINCT e.Salary\n",
    "      FROM Employee e\n",
    "      ORDER BY e.Salary DESC\n",
    "      LIMIT 1 OFFSET miu\n",
    "  );\n",
    "END\n",
    "\"\"\""
   ]
  },
  {
   "cell_type": "markdown",
   "metadata": {},
   "source": [
    "<h3><font color=#1661AB>N-th Highest Salary</font color=#1661AB></h3>\n",
    "<p>Write a SQL <strong>Function</strong> to get the second highest salary from the Employee table.\n",
    "<p>If there is no second highest salary, then the query should return null."
   ]
  },
  {
   "cell_type": "code",
   "execution_count": null,
   "metadata": {},
   "outputs": [],
   "source": [
    "\"\"\"\n",
    "SELECT s.Score, \n",
    "    (SELECT COUNT(DISTINCT(s2.Score))\n",
    "        FROM Scores s2\n",
    "        WHERE s2.Score > s.Score) +1\n",
    "        AS Rank\n",
    "FROM Scores s ORDER BY s.Score DESC;\n",
    "\"\"\""
   ]
  }
 ],
 "metadata": {
  "kernelspec": {
   "display_name": "Python 3",
   "language": "python",
   "name": "python3"
  },
  "language_info": {
   "codemirror_mode": {
    "name": "ipython",
    "version": 3
   },
   "file_extension": ".py",
   "mimetype": "text/x-python",
   "name": "python",
   "nbconvert_exporter": "python",
   "pygments_lexer": "ipython3",
   "version": "3.6.8"
  }
 },
 "nbformat": 4,
 "nbformat_minor": 2
}
