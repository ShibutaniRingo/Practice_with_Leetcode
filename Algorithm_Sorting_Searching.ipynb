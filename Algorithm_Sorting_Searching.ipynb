{
 "cells": [
  {
   "cell_type": "code",
   "execution_count": 93,
   "metadata": {},
   "outputs": [],
   "source": [
    "def QuickSort(lst,first,last):\n",
    "    n = len(lst)\n",
    "    if n<=1:\n",
    "        return lst\n",
    "    if first >= last:\n",
    "        return None\n",
    "    \n",
    "    pivot = first\n",
    "    left = first\n",
    "    right = last\n",
    "    while left<right:\n",
    "        while left < right and lst[right] >= lst[pivot]:\n",
    "            right = right - 1\n",
    "        while left < right and lst[left] <= lst[pivot]:\n",
    "            left = left + 1\n",
    "        lst[left], lst[right] = lst[right], lst[left]\n",
    "        \n",
    "    lst[left], lst[pivot] = lst[pivot], lst[left]\n",
    "    QuickSort(lst,first,left-1)\n",
    "    QuickSort(lst,left+1,last)\n",
    "    return lst"
   ]
  },
  {
   "cell_type": "code",
   "execution_count": 97,
   "metadata": {},
   "outputs": [],
   "source": [
    "def BubbleSort(lst):\n",
    "    n = len(lst)\n",
    "    if n<=1:\n",
    "        return lst\n",
    "    \n",
    "    for i in range(n-1):\n",
    "        for j in range(n-i-1):\n",
    "            if lst[j]>lst[j+1]:\n",
    "                lst[j], lst[j+1] = lst[j+1], lst[j]\n",
    "    \n",
    "    return lst"
   ]
  },
  {
   "cell_type": "code",
   "execution_count": 101,
   "metadata": {},
   "outputs": [],
   "source": [
    "def InsertSort(lst):\n",
    "    n = len(lst)\n",
    "    if n<=1:\n",
    "        return lst\n",
    "    \n",
    "    for i in range(1,n-1):\n",
    "        j = i\n",
    "        ans = lst[j]\n",
    "        while j>0 and lst[j] <= lst[j-1]:\n",
    "            lst[j] = lst[j-1]\n",
    "            j = j-1\n",
    "        lst[j] = ans\n",
    "    return lst"
   ]
  },
  {
   "cell_type": "code",
   "execution_count": 124,
   "metadata": {},
   "outputs": [],
   "source": [
    "def MergeSort(lst):\n",
    "    n = len(lst)\n",
    "    if n<=1:\n",
    "        return lst\n",
    "    \n",
    "    def merge(left,right):\n",
    "        new_lst = []\n",
    "        if left and right:\n",
    "            if left[0] < right[0]:\n",
    "                new_lst.append(left.pop(0))\n",
    "            else:\n",
    "                new_lst.append(right.pop(0))\n",
    "        if left:\n",
    "            new_lst = new_lst + left\n",
    "        if right:\n",
    "            new_lst = new_lst + right\n",
    "        return new_lst\n",
    "    \n",
    "    mid = n//2\n",
    "    left = lst[:mid]\n",
    "    right = lst[mid:]\n",
    "    left = MergeSort(left)\n",
    "    right = MergeSort(right)\n",
    "    return merge(left,right)\n",
    "    "
   ]
  },
  {
   "cell_type": "code",
   "execution_count": 125,
   "metadata": {},
   "outputs": [],
   "source": [
    "def SelectSort(lst):\n",
    "    n = len(lst)\n",
    "    if n<=1:\n",
    "        return lst\n",
    "    \n",
    "    for i in range(n-1):\n",
    "        m = i\n",
    "        for j in range(i,n-1):\n",
    "            if lst[j] < lst [m]:\n",
    "                m = j\n",
    "        if m != i:\n",
    "            lst[i],lst[m] = lst[m],lst[i]\n",
    "    \n",
    "    return lst\n",
    "    "
   ]
  },
  {
   "cell_type": "code",
   "execution_count": 126,
   "metadata": {},
   "outputs": [
    {
     "name": "stdout",
     "output_type": "stream",
     "text": [
      "QuickSort: [0, 1, 2, 3, 4, 5, 6, 8, 9, 9]\n",
      "BubbleSort: [0, 1, 2, 3, 4, 5, 6, 8, 9, 9]\n",
      "InsertSort: [0, 1, 2, 3, 4, 5, 6, 8, 9, 9]\n",
      "SelectSort: [0, 1, 2, 3, 4, 5, 6, 8, 9, 9]\n",
      "MergeSort: [0, 1, 2, 3, 4, 5, 6, 8, 9, 9]\n"
     ]
    }
   ],
   "source": [
    "numbers = [9, 8, 9, 6, 5, 4, 3, 2, 1, 0]\n",
    "print(\"QuickSort:\",QuickSort(numbers,0,len(numbers)-1))\n",
    "print(\"BubbleSort:\",BubbleSort(numbers))\n",
    "print(\"InsertSort:\",InsertSort(numbers))\n",
    "print(\"SelectSort:\",SelectSort(numbers))\n",
    "print(\"MergeSort:\",MergeSort(numbers))"
   ]
  },
  {
   "cell_type": "code",
   "execution_count": null,
   "metadata": {},
   "outputs": [],
   "source": []
  }
 ],
 "metadata": {
  "kernelspec": {
   "display_name": "Python 3",
   "language": "python",
   "name": "python3"
  },
  "language_info": {
   "codemirror_mode": {
    "name": "ipython",
    "version": 3
   },
   "file_extension": ".py",
   "mimetype": "text/x-python",
   "name": "python",
   "nbconvert_exporter": "python",
   "pygments_lexer": "ipython3",
   "version": "3.6.8"
  }
 },
 "nbformat": 4,
 "nbformat_minor": 2
}
