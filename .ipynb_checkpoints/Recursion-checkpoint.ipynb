{
 "cells": [
  {
   "cell_type": "markdown",
   "metadata": {},
   "source": [
    "<h1><font color=#1661AB>Recursion</font color=#1661AB></h1>"
   ]
  },
  {
   "cell_type": "markdown",
   "metadata": {},
   "source": [
    "<h3><font color=#1661AB>Length of all strings</font color=#1661AB></h3>\n",
    "Write a tail recursive function length that returns the total length of all the strings contained in a list of strings.\n",
    "<h4><font color=#1661AB>For example:</font color=#1661AB></h4>\n",
    "<p>x=[\"John\",\"Jill\",\"Billy\"]\n",
    "<p>length(x)   should return 13.\n",
    "\n",
    "if  x=[]   length(x) should return 0."
   ]
  },
  {
   "cell_type": "code",
   "execution_count": 1,
   "metadata": {},
   "outputs": [],
   "source": [
    "def length(x,a=0):\n",
    "    if len(x)==0: return a\n",
    "    if len(x)>0: return length(x[1:], a+len(x[0]))"
   ]
  },
  {
   "cell_type": "code",
   "execution_count": 2,
   "metadata": {},
   "outputs": [
    {
     "name": "stdout",
     "output_type": "stream",
     "text": [
      "13\n",
      "0\n"
     ]
    }
   ],
   "source": [
    "x=[\"John\",\"Jill\",\"Billy\"]\n",
    "print(length(x)) \n",
    "x=[]\n",
    "print(length(x)) "
   ]
  },
  {
   "cell_type": "markdown",
   "metadata": {},
   "source": [
    "<h3><font color=#1661AB>Write a function that reverses a string.</font color=#1661AB></h3>\n",
    "<p>The input string is given as an array of characters char.\n",
    "<p>Do not allocate extra space for another array, you must do this by modifying the input array in-place with O(1) extra memory.\n",
    "<p>You may assume all the characters consist of printable ascii characters."
   ]
  },
  {
   "cell_type": "markdown",
   "metadata": {},
   "source": [
    "<h3><font color=#1661AB>Example</font color=#1661AB></h3>\n",
    "<p>Input: [\"h\",\"e\",\"l\",\"l\",\"o\"]\n",
    "<p>Output: [\"o\",\"l\",\"l\",\"e\",\"h\"]"
   ]
  },
  {
   "cell_type": "markdown",
   "metadata": {},
   "source": [
    "<h3><font color=#1661AB>You can easily solve this problem iteratively</font color=#1661AB></h3>\n",
    "i.e. looping through the string starting from its last character. But how about solving it recursively?\n",
    "\n",
    "First, we can define the desired function as <strong>printReverse(str[0...n-1])</strong>, where <strong>str[0]</strong> represents the first character in the string. Then we can accomplish the given task in two steps:\n",
    "<ol>\n",
    "<li>printReverse(str[1...n-1]): print the substring str[1...n-1] in reverse order.</li>\n",
    "<li>print(str[0]): print the first character in the string.</li>\n",
    "</ol>"
   ]
  },
  {
   "cell_type": "code",
   "execution_count": 1,
   "metadata": {},
   "outputs": [],
   "source": [
    "def reverseString(s) -> None:\n",
    "    \"\"\"\n",
    "    Do not return anything, modify s in-place instead.\n",
    "    \"\"\"\n",
    "    head = 0\n",
    "    tail = len(s) - 1\n",
    "    while head <= tail:\n",
    "        ans = s[head]\n",
    "        s[head] = s[tail]\n",
    "        s[tail] = ans\n",
    "        head = head + 1\n",
    "        tail = tail - 1"
   ]
  },
  {
   "cell_type": "code",
   "execution_count": 2,
   "metadata": {},
   "outputs": [
    {
     "data": {
      "text/plain": [
       "['o', 'l', 'l', 'e', 'h']"
      ]
     },
     "execution_count": 2,
     "metadata": {},
     "output_type": "execute_result"
    }
   ],
   "source": [
    "s=[\"h\",\"e\",\"l\",\"l\",\"o\"]\n",
    "reverseString(s)\n",
    "s"
   ]
  },
  {
   "cell_type": "code",
   "execution_count": 110,
   "metadata": {},
   "outputs": [],
   "source": [
    "def reverseString_recursive(s) :\n",
    "    for i in range(len(s)):\n",
    "        if len(s) > 1:\n",
    "            a = [s[-1]]  +  reverseString_recursive(s[0:-1])\n",
    "        else:\n",
    "            a = s\n",
    "        return a"
   ]
  },
  {
   "cell_type": "code",
   "execution_count": 111,
   "metadata": {},
   "outputs": [
    {
     "data": {
      "text/plain": [
       "['o', 'l', 'l', 'e', 'h']"
      ]
     },
     "execution_count": 111,
     "metadata": {},
     "output_type": "execute_result"
    }
   ],
   "source": [
    "s=[\"h\",\"e\",\"l\",\"l\",\"o\"]\n",
    "reverseString_recursive(s)"
   ]
  },
  {
   "cell_type": "markdown",
   "metadata": {},
   "source": [
    "<h3><font color=#1661AB>Recursive Function</font color=#1661AB></h3>\n",
    "In the function F(X), we'll:\n",
    "<ol>\n",
    "<li>Break the problem down into smaller scopes, x0, x1, etc (belong to X)</li>\n",
    "<li>Call function F(x0), F(x1) ... F(xn) recursively to solve subproblem of X</li>\n",
    "<li>Process the results from the recursive function calls to solve the problem corresponding to X</li>\n",
    "</ol>\n",
    "<h4><font color=#1661AB>我觉得</font color=#1661AB></h4>\n",
    "<p>实际上可以分为两部分：</p>\n",
    "<ol>\n",
    "<li>将问题分解成倒数第二简单的情况，在这种情况下只要作一次操作就可以解决问题。</li>\n",
    "<li>解决问题最简单的情况（如长度0和1时）怎么处理(base case)</li>\n",
    "</ol>"
   ]
  },
  {
   "cell_type": "markdown",
   "metadata": {},
   "source": [
    "<h3><font color=#1661AB>Swap Nodes in Pairs</font color=#1661AB></h3>\n",
    "<p>Given a linked list, swap every two adjacent nodes and return its head.</p>\n",
    "<p>e.g.  for a list 1-> 2 -> 3 -> 4, one should return the head of list as 2 -> 1 -> 4 -> 3.</p>\n",
    "<ol>\n",
    "<li>First, we swap the first two nodes in the list, i.e. head and head.next.</li>\n",
    "<li>Then, we call the function self as swap(head.next.next) to swap the rest of the list following the first two nodes.</li>\n",
    "<li>Finally, we attach the returned head of the sub-list in step (2) with the two nodes swapped in step (1) to form a new linked list.</li>\n",
    "</ol>"
   ]
  },
  {
   "cell_type": "code",
   "execution_count": 127,
   "metadata": {},
   "outputs": [],
   "source": [
    "class ListNode:\n",
    "    def __init__(self, x):\n",
    "        self.val = x\n",
    "        self.next = None\n",
    "        \n",
    "#Example\n",
    "class Solution:\n",
    "    def swapPairs(self, head: ListNode) -> ListNode:\n",
    "        if head == None or head.next == None:\n",
    "            return head\n",
    "        \n",
    "        dummy = ListNode(0)\n",
    "        dummy.next = head\n",
    "        ans = dummy\n",
    "        \n",
    "        \n",
    "        while ans.next != None and ans.next.next != None:\n",
    "            first = ans.next\n",
    "            second = ans.next.next\n",
    "            \n",
    "            first.next = second.next  \n",
    "            second.next = first #换头\n",
    "            \n",
    "            ans.next = second  #此处实际上更新了dummy\n",
    "            ans = ans.next.next #重新设定开始\n",
    "            \n",
    "        return dummy.next"
   ]
  },
  {
   "cell_type": "markdown",
   "metadata": {},
   "source": [
    "<h4><font color=#207F4C>思考：为什么此处需要一个0Node作为头部？</font color=#207F4C></h4>\n",
    "<p>因为在连接不同部分的时候：你不能将最初的结果连接到无上，如果另外用一个ListNode存储结果，它会受到后面切割的影响，长度变短。</p>"
   ]
  },
  {
   "cell_type": "markdown",
   "metadata": {},
   "source": [
    "<h3><font color=#1661AB>Pascal's triangle</font color=#1661AB></h3>\n",
    "<p>Pascal's triangle are a series of numbers arranged in the shape of triangle. In Pascal's triangle, the leftmost and the rightmost numbers of each row are always 1. </p>\n",
    "<p>For the rest, each number is the sum of the two numbers directly above it in the previous row.</p>\n",
    "<p>杨辉三角形（肩上两数之和）</p>\n",
    "<ol>\n",
    "<li>First of all, we define a function f(i,j) which returns the number in the Pascal's Triangle in the i-th row and j-th column.</li>\n",
    "<li>We then can represent the recurrence relation with the following formula: f(i,j) = f(i-1,j-1) + f(i-1,j)\n",
    "    <p>此处想象一个左下角为直角的三角形</p>\n",
    "</li>\n",
    "<li>f(i,j) = 1 when j = 1 or j = i</li>\n",
    "</ol>"
   ]
  },
  {
   "cell_type": "markdown",
   "metadata": {},
   "source": [
    "<h3><font color=#1661AB>Case 1</font color=#1661AB></h3>"
   ]
  },
  {
   "cell_type": "code",
   "execution_count": 161,
   "metadata": {},
   "outputs": [],
   "source": [
    "#My answer\n",
    "def generate(numRows):\n",
    "        result = []\n",
    "        for l in range(numRows):\n",
    "            row = [1]\n",
    "            for k in range(l):\n",
    "                row.append(0)\n",
    "            result.append(row)\n",
    "        for i in range(len(result)):\n",
    "            for j in range(len(result[i])):\n",
    "                if j == 0:\n",
    "                    result[i][j] = 1\n",
    "                elif j == i:\n",
    "                    result[i][j] = 1\n",
    "                else:\n",
    "                    result[i][j] = result[i-1][j-1] + result[i-1][j]\n",
    "        return result"
   ]
  },
  {
   "cell_type": "code",
   "execution_count": 162,
   "metadata": {},
   "outputs": [
    {
     "data": {
      "text/plain": [
       "[[1], [1, 1], [1, 2, 1], [1, 3, 3, 1], [1, 4, 6, 4, 1]]"
      ]
     },
     "execution_count": 162,
     "metadata": {},
     "output_type": "execute_result"
    }
   ],
   "source": [
    "generate(5)"
   ]
  },
  {
   "cell_type": "markdown",
   "metadata": {},
   "source": [
    "<h4><font color=#207F4C>思考：能否在一个loop中完成，降低复杂度</font color=#207F4C></h4>\n",
    "<p>先生成上层，计算只需要用到上层，所以可以在一个loop完成</p>"
   ]
  },
  {
   "cell_type": "code",
   "execution_count": 185,
   "metadata": {},
   "outputs": [],
   "source": [
    "#Sample answer\n",
    "def sample_generate(num_rows):\n",
    "    triangle = []\n",
    "\n",
    "    for row_num in range(num_rows):\n",
    "        # The first and last row elements are always 1.\n",
    "        row = [None for _ in range(row_num+1)] #好漂亮的生成方法啊啊啊\n",
    "        row[0], row[-1] = 1, 1\n",
    "\n",
    "        # Each triangle element is equal to the sum of the elements\n",
    "        # above-and-to-the-left and above-and-to-the-right.\n",
    "        for j in range(1, len(row)-1):\n",
    "            row[j] = triangle[row_num-1][j-1] + triangle[row_num-1][j] \n",
    "            #由于先生成了上层，计算只需要用到上层，所以可以在一个loop完成\n",
    "\n",
    "        triangle.append(row) \n",
    "\n",
    "    return triangle"
   ]
  },
  {
   "cell_type": "code",
   "execution_count": 186,
   "metadata": {},
   "outputs": [
    {
     "data": {
      "text/plain": [
       "[[1], [1, 1], [1, 2, 1], [1, 3, 3, 1], [1, 4, 6, 4, 1]]"
      ]
     },
     "execution_count": 186,
     "metadata": {},
     "output_type": "execute_result"
    }
   ],
   "source": [
    "sample_generate(5)"
   ]
  },
  {
   "cell_type": "markdown",
   "metadata": {},
   "source": [
    "<h3><font color=#1661AB>Case 2</font color=#1661AB></h3>\n",
    "<p>Use only O(k) extra space（利用上题template）</p>"
   ]
  },
  {
   "cell_type": "code",
   "execution_count": 179,
   "metadata": {},
   "outputs": [],
   "source": [
    "#My answer\n",
    "def getRow(num_rows):\n",
    "    triangle = []\n",
    "    for row_num in range(num_rows+1):\n",
    "        # The first and last row elements are always 1.\n",
    "        row = [None for _ in range(row_num+1)] #好漂亮的生成方法啊啊啊\n",
    "        row[0], row[-1] = 1, 1\n",
    "\n",
    "        # Each triangle element is equal to the sum of the elements\n",
    "        # above-and-to-the-left and above-and-to-the-right.\n",
    "        for j in range(1, len(row)-1):\n",
    "            row[j] = triangle[row_num-1][j-1] + triangle[row_num-1][j] \n",
    "            #由于先生成了上层，计算只需要用到上层，所以可以在一个loop完成\n",
    "        triangle.append(row)\n",
    "    return row"
   ]
  },
  {
   "cell_type": "code",
   "execution_count": 180,
   "metadata": {},
   "outputs": [
    {
     "data": {
      "text/plain": [
       "[1, 3, 3, 1]"
      ]
     },
     "execution_count": 180,
     "metadata": {},
     "output_type": "execute_result"
    }
   ],
   "source": [
    "getRow(3)"
   ]
  },
  {
   "cell_type": "code",
   "execution_count": 183,
   "metadata": {},
   "outputs": [],
   "source": [
    "#Sample answer\n",
    "def sample_getRow(rowIndex: int):\n",
    "    def pasc(cur, rowIndex, row):\n",
    "        if cur > rowIndex + 1:\n",
    "            return row\n",
    "        for i in reversed(range(cur)):\n",
    "            if i == 0 or i == cur-1:\n",
    "                row[i] = 1\n",
    "            else:\n",
    "                row[i] = row[i] + row[i-1]\n",
    "\n",
    "        pasc(cur+1, rowIndex, row)  #tail-recursive! 好酷555\n",
    "\n",
    "    row = [0]*(rowIndex+1)\n",
    "    pasc(0, rowIndex, row)\n",
    "    return row"
   ]
  },
  {
   "cell_type": "code",
   "execution_count": 184,
   "metadata": {},
   "outputs": [
    {
     "data": {
      "text/plain": [
       "[1, 3, 3, 1]"
      ]
     },
     "execution_count": 184,
     "metadata": {},
     "output_type": "execute_result"
    }
   ],
   "source": [
    "sample_getRow(3)"
   ]
  },
  {
   "cell_type": "markdown",
   "metadata": {},
   "source": [
    "<h3><font color=#1661AB>Reverse Linked List</font color=#1661AB></h3>\n",
    "<p>A linked list can be reversed either iteratively or recursively.</p>"
   ]
  },
  {
   "cell_type": "code",
   "execution_count": null,
   "metadata": {},
   "outputs": [],
   "source": [
    "#Sample answer\n",
    "#Iteratively\n",
    "class Solution1:\n",
    "    def reverseList(self, head: ListNode) -> ListNode: \n",
    "        result = None\n",
    "        while head != None:\n",
    "            ans = head\n",
    "            head = head.next\n",
    "            ans.next = result\n",
    "            result = ans\n",
    "        return result"
   ]
  },
  {
   "cell_type": "code",
   "execution_count": 15,
   "metadata": {},
   "outputs": [],
   "source": [
    "#Recursively\n",
    "class Solution2:\n",
    "    def reverseList(self, head):\n",
    "        return self._reverse(head)\n",
    "\n",
    "    def _reverse(self, node, prev=None):\n",
    "        if not node:\n",
    "            return prev\n",
    "        n = node.next\n",
    "        node.next = prev\n",
    "        return self._reverse(n, node)"
   ]
  },
  {
   "cell_type": "markdown",
   "metadata": {},
   "source": [
    "<h3><font color=#1661AB>Duplicate Calculation in Recursion</font color=#1661AB></h3>"
   ]
  },
  {
   "cell_type": "markdown",
   "metadata": {},
   "source": [
    "<h3><font color=#1661AB>Fibonacci</font color=#1661AB></h3>"
   ]
  },
  {
   "cell_type": "code",
   "execution_count": 1,
   "metadata": {},
   "outputs": [],
   "source": [
    "def fibonacci(n):\n",
    "    \"\"\"\n",
    "    :type n: int\n",
    "    :rtype: int\n",
    "    \"\"\"\n",
    "    if n < 2:\n",
    "        return n\n",
    "    else:\n",
    "        return fibonacci(n-1) + fibonacci(n-2)"
   ]
  },
  {
   "cell_type": "code",
   "execution_count": 8,
   "metadata": {},
   "outputs": [
    {
     "data": {
      "text/plain": [
       "1"
      ]
     },
     "execution_count": 8,
     "metadata": {},
     "output_type": "execute_result"
    }
   ],
   "source": [
    "fibonacci(2)"
   ]
  },
  {
   "cell_type": "markdown",
   "metadata": {},
   "source": [
    "<p>If you would like to know the number of F(4), you can apply and extend the above formulas as follows:\n",
    "<p><font color=#207F4C>F(4) = F(3) + F(2) = (F(2) + F(1)) + F(2)</font color=#207F4C></p>\n",
    "<p>As you can see, in order to obtain the result for F(4), we would need to calculate the number F(2) twice following the above deduction: the first time in the first extension of F(4) and the second time for the intermediate result F(3).</p>"
   ]
  },
  {
   "cell_type": "markdown",
   "metadata": {},
   "source": [
    "<h3><font color=#1661AB>Memoization</font color=#1661AB></h3>"
   ]
  },
  {
   "cell_type": "markdown",
   "metadata": {},
   "source": [
    "<p>To eliminate the duplicate calculation in the above case, as many of you would have figured out, one of the ideas would be to store the intermediate results in the cache so that we could reuse them later without re-calculation.</p>\n",
    "<p>This idea is also known as memoization, which is a technique that is frequently used together with recursion.</p>"
   ]
  },
  {
   "cell_type": "markdown",
   "metadata": {},
   "source": [
    "<p>Memoization is an optimization technique used primarily to speed up computer programs by storing the results of expensive function calls and returning the cached result when the same inputs occur again. </p>"
   ]
  },
  {
   "cell_type": "code",
   "execution_count": 5,
   "metadata": {},
   "outputs": [],
   "source": [
    "def fib(N):\n",
    "    \"\"\"\n",
    "    :type N: int\n",
    "    :rtype: int\n",
    "    \"\"\"\n",
    "    cache = {}\n",
    "    def recur_fib(N):\n",
    "        if N in cache:\n",
    "            return cache[N]\n",
    "\n",
    "        if N < 2:\n",
    "            result = N\n",
    "        else:\n",
    "            result = recur_fib(N-1) + recur_fib(N-2)   #这个计算的过程实际上是一样的\n",
    "\n",
    "        # put result in cache for later reference.\n",
    "        cache[N] = result\n",
    "        return result\n",
    "\n",
    "    return recur_fib(N)"
   ]
  },
  {
   "cell_type": "code",
   "execution_count": 7,
   "metadata": {},
   "outputs": [
    {
     "data": {
      "text/plain": [
       "1"
      ]
     },
     "execution_count": 7,
     "metadata": {},
     "output_type": "execute_result"
    }
   ],
   "source": [
    "fib(2)"
   ]
  },
  {
   "cell_type": "markdown",
   "metadata": {},
   "source": [
    "<h3><font color=#1661AB>Climbing Stairs</font color=#1661AB></h3>"
   ]
  },
  {
   "cell_type": "markdown",
   "metadata": {},
   "source": [
    "<p>You are climbing a stair case. It takes n steps to reach to the top.Each time you can either climb 1 or 2 steps. In how many distinct ways can you climb to the top?</p>\n",
    "<p><font color=#207F4C>Note: Given n will be a positive integer.<font color=#207F4C></p>"
   ]
  },
  {
   "cell_type": "markdown",
   "metadata": {},
   "source": [
    "<h4><font color=#1661AB>Example</font color=#1661AB></h4>\n",
    "<p><strong>Input:</strong> 2</p>\n",
    "<p><strong>Output:</strong> 2</p>\n",
    "<p><strong>Explanation: </strong>There are two ways to climb to the top.</p>\n",
    "<ol>\n",
    "<li>1 step + 1 step\n",
    "<li>2 steps\n",
    "</ol>\n",
    "<p>考虑F(N)，比他小一步的+1和比他小两步的+2，则F(N-1) + F(N-2)  (到达F(N-1)和F(N-2)的必不可能相同)</p>\n",
    "<p><font color=#207F4C>实际上就是fibonacci问题</font color=#207F4C></p>"
   ]
  },
  {
   "cell_type": "code",
   "execution_count": 12,
   "metadata": {},
   "outputs": [],
   "source": [
    "def climbStair(N):\n",
    "    cache = {}\n",
    "    def climb(N):\n",
    "        if N in cache:\n",
    "            return cache[N]\n",
    "\n",
    "        if N <= 2:\n",
    "            result = N\n",
    "        else:\n",
    "            result =climb(N-1) + climb(N-2)  #这个计算的过程实际上是一样的\n",
    "        \n",
    "        cache[N] = result\n",
    "        return result\n",
    "\n",
    "    return climb(N)"
   ]
  },
  {
   "cell_type": "code",
   "execution_count": 13,
   "metadata": {},
   "outputs": [
    {
     "data": {
      "text/plain": [
       "2"
      ]
     },
     "execution_count": 13,
     "metadata": {},
     "output_type": "execute_result"
    }
   ],
   "source": [
    "climbStair(2)"
   ]
  },
  {
   "cell_type": "code",
   "execution_count": 14,
   "metadata": {},
   "outputs": [
    {
     "data": {
      "text/plain": [
       "3"
      ]
     },
     "execution_count": 14,
     "metadata": {},
     "output_type": "execute_result"
    }
   ],
   "source": [
    "climbStair(3)"
   ]
  },
  {
   "cell_type": "markdown",
   "metadata": {},
   "source": [
    "<h3><font color=#1661AB>Complexity Analysis</font color=#1661AB></h3>"
   ]
  },
  {
   "cell_type": "markdown",
   "metadata": {},
   "source": [
    "<h3><font color=#1661AB>Time Complexity Analysis：时间复杂度</font color=#1661AB></h3>\n",
    "<p>Given a recursion algorithm, its time complexity <strong>O(T)</strong> is typically the product of the number of recursion invocations (denoted as <strong>R</strong>) and the time complexity of calculation (denoted as <strong>O(s)</strong>) that incurs along with each recursion call:</p>\n",
    "<p><font color=#207F4C>O(T) = R * O(s)</font color=#207F4C></p>\n",
    "<p><font color=#207F4C>也就是说：仅和每一步操作的复杂程度和给定长度需要递归的次数有关</font color=#207F4C></p>"
   ]
  },
  {
   "cell_type": "markdown",
   "metadata": {},
   "source": [
    "<h3><font color=#1661AB>The execution tree</font color=#1661AB></h3>\n",
    "<p>A tree that is used to denote the execution flow of a recursive function in particular. </p>\n",
    "<p>Each node in the tree represents an invocation of the recursive function. Therefore, the total number of nodes in the tree corresponds to the number of recursion calls during the execution.</p>\n",
    "<p><font color=#207F4C>适用于像刚才爬楼梯那样，每一步有多种可能性的情况</font color=#207F4C></p>\n",
    "<p>In a full binary tree with n levels, the total number of nodes would be <strong>2^n-1</strong>. Therefore, the upper bound (though not tight) for the number of recursion in f(n) would be <strong>2^n-1</strong>, as well. As a result, we can estimate that the time complexity for f(n) would be <strong>2^n</strong>.</p>"
   ]
  },
  {
   "cell_type": "markdown",
   "metadata": {},
   "source": [
    "<h3><font color=#1661AB>Space Complexity Analysis：空间复杂度</font color=#1661AB></h3>\n",
    "<p>There are mainly two parts of the space consumption that one should bear in mind when calculating the space complexity of a recursive algorithm: <strong>recursion related space<strong> and <strong>non-recursion related space<strong>.</p>\n",
    "<ol>\n",
    "<li>The <strong>recursion related space</strong> refers to the memory cost that is incurred directly by the recursion, i.e. the stack to <strong>keep track of recursive function calls.</strong></li>\n",
    "    <ol>\n",
    "        <li>The returning address of the function call. Once the function call is completed, the program must know where to return to, i.e. the line of code after the function call.</li>\n",
    "        <li>The parameters that are passed to the function call. </li>\n",
    "        <li>The local variables within the function call.</li>\n",
    "    </ol>\n",
    "<p><strong><font color=#C21F30>For a recursive algorithm, if there is no other memory consumption, then this recursion incurred space will be the space upper-bound of the algorithm.</font color=#C21F30></strong></p>\n",
    "<li>The <strong>non-recursion related space</strong> refers to the memory space that is not directly related to recursion, which typically includes the space (normally in heap) that is allocated for the <strong>global variables</strong>. </li>\n",
    "    <p>Recursion or not, you might need to store the input of the problem as global variables, before any subsequent function calls. And you might need to save the intermediate results from the recursive calls as well.</p>\n",
    "</ol>"
   ]
  },
  {
   "cell_type": "markdown",
   "metadata": {},
   "source": [
    "<h3><font color=#1661AB>Tail recursion</font color=#1661AB></h3>\n",
    "<p>Tail recursion is a recursion where the recursive call is the final instruction in the recursion function. And there should be only one recursive call in the function.</p>\n",
    "<p><font color=#207F4C>迭代的是recursive function中的参数：通常有两个，随着每次call更新</font color=#207F4C></p>"
   ]
  },
  {
   "cell_type": "markdown",
   "metadata": {},
   "source": [
    "<h4><font color=#1661AB>Example: Reverse string</font color=#1661AB></h4>"
   ]
  },
  {
   "cell_type": "code",
   "execution_count": null,
   "metadata": {},
   "outputs": [],
   "source": [
    "def sum_non_tail_recursion(ls):\n",
    "    \"\"\"\n",
    "    :type ls: List[int]\n",
    "    :rtype: int, the sum of the input list.\n",
    "    \"\"\"\n",
    "    if len(ls) == 0:\n",
    "        return 0\n",
    "    \n",
    "    # not a tail recursion because it does some computation after the recursive call returned.\n",
    "    return ls[0] + sum_non_tail_recursion(ls[1:])\n",
    "\n",
    "\n",
    "def sum_tail_recursion(ls):\n",
    "    \"\"\"\n",
    "    :type ls: List[int]\n",
    "    :rtype: int, the sum of the input list.\n",
    "    \"\"\"\n",
    "    def helper(ls, acc):\n",
    "        if len(ls) == 0:\n",
    "            return acc\n",
    "        # this is a tail recursion because the final instruction is a recursive call.\n",
    "        return helper(ls[1:], ls[0] + acc)\n",
    "    \n",
    "    return helper(ls, 0)"
   ]
  },
  {
   "cell_type": "markdown",
   "metadata": {},
   "source": [
    "<h3><font color=#1661AB>Maximum Depth of Binary Tree</font color=#1661AB></h3>\n",
    "<p>Given a binary tree, find its maximum depth.</p>\n",
    "<p>The maximum depth is the number of nodes along the longest path from the root node down to the farthest leaf node.</p>\n",
    "<p>Note: A leaf is a node with no children.</p>"
   ]
  },
  {
   "cell_type": "markdown",
   "metadata": {},
   "source": [
    "<h4><font color=#1661AB>Example:</font color=#1661AB></h4>\n",
    "<p>Given binary tree [3,9,20,null,null,15,7],return its depth = 3.</p>\n",
    "<p>3\n",
    "<p>9, 20\n",
    "<p>null, null, 15, 7"
   ]
  },
  {
   "cell_type": "code",
   "execution_count": null,
   "metadata": {},
   "outputs": [],
   "source": [
    "class Solution:\n",
    "    \n",
    "    def maxDepth(self, root: TreeNode) -> int: \n",
    "        def maxdep(root):\n",
    "            if root == None:\n",
    "                return 0\n",
    "            return 1 + max(maxdep(root.left), maxdep(root.right))\n",
    "\n",
    "        return maxdep(root)"
   ]
  },
  {
   "cell_type": "markdown",
   "metadata": {},
   "source": [
    "<p><font color=#207F4C>思考：为什么while那个无法实现：更新以后没有重call，所以实际上没有更新root<font color=#207F4C></p>"
   ]
  },
  {
   "cell_type": "markdown",
   "metadata": {},
   "source": [
    "<h3><font color=#1661AB>Pow(x, n)</font color=#1661AB></h3>\n",
    "<p>Implement pow(x, n), which calculates x raised to the power n (x^n).</p>\n",
    "<p><strong>Note:</strong></p>\n",
    "<ol>\n",
    "<li>-100.0 < x < 100.0\n",
    "<li>n is a 32-bit signed integer, within the range [−(2^31), 2^31 − 1]\n",
    "</ol>"
   ]
  },
  {
   "cell_type": "code",
   "execution_count": 18,
   "metadata": {},
   "outputs": [],
   "source": [
    "def pow(x,n):\n",
    "    if n == 0:\n",
    "        return 1\n",
    "    return x*pow(x,n-1)\n",
    "#n很大时，这个方法超时了\n",
    "#需要二分法"
   ]
  },
  {
   "cell_type": "code",
   "execution_count": 19,
   "metadata": {},
   "outputs": [
    {
     "data": {
      "text/plain": [
       "1024"
      ]
     },
     "execution_count": 19,
     "metadata": {},
     "output_type": "execute_result"
    }
   ],
   "source": [
    "pow(2,10)"
   ]
  },
  {
   "cell_type": "code",
   "execution_count": 20,
   "metadata": {},
   "outputs": [],
   "source": [
    "def power(x,n):\n",
    "    if n < 0:\n",
    "        x = 1/x\n",
    "        n = -n\n",
    "    if n == 0:\n",
    "        return 1\n",
    "    if n == 1:\n",
    "        return x\n",
    "    root = power(x, n // 2)\n",
    "    if n % 2 ==1:\n",
    "        return root * root * x \n",
    "    else:\n",
    "        return root * root "
   ]
  },
  {
   "cell_type": "code",
   "execution_count": 21,
   "metadata": {},
   "outputs": [
    {
     "data": {
      "text/plain": [
       "1024"
      ]
     },
     "execution_count": 21,
     "metadata": {},
     "output_type": "execute_result"
    }
   ],
   "source": [
    "pow(2,10)"
   ]
  },
  {
   "cell_type": "markdown",
   "metadata": {},
   "source": [
    "<h3><font color=#1661AB>Merge Two Sorted Lists</font color=#1661AB></h3>\n",
    "<p>Merge two sorted linked lists and return it as a new list. The new list should be made by splicing together the nodes of the first two lists.</p>\n",
    "<p><font color=#207F4C>思考：排序问题怎么解决？</font color=#207F4C></p>\n",
    "<h4><font color=#1661AB>Example</font color=#1661AB></h4>\n",
    "<li>Input: 1->2->4, 1->3->4\n",
    "<li>Output: 1->1->2->3->4->4"
   ]
  },
  {
   "cell_type": "code",
   "execution_count": null,
   "metadata": {},
   "outputs": [],
   "source": [
    "class Solution:\n",
    "    def mergeTwoLists(self, l1: ListNode, l2: ListNode) -> ListNode:\n",
    "        def compareMerge(l1,l2):\n",
    "            if not l1:\n",
    "                return l2\n",
    "            if not l2:\n",
    "                return l1\n",
    "            if l2.val >= l1.val:\n",
    "                l1.next = compareMerge(l1.next, l2)\n",
    "                return l1\n",
    "            else:\n",
    "                l2.next = compareMerge(l1, l2.next)\n",
    "                return l2\n",
    "        return compareMerge(l1,l2)"
   ]
  },
  {
   "cell_type": "markdown",
   "metadata": {},
   "source": [
    "<h3><font color=#1661AB>K-th Symbol in Grammar</font color=#1661AB></h3>\n",
    "<p>On the first row, we write a 0. Now in every subsequent row, we look at the previous row and replace each occurrence of 0 with 01, and each occurrence of 1 with 10.</p>\n",
    "<p>Given row N and index K, return the K-th indexed symbol in row N. (The values of K are 1-indexed.) (1 indexed).</p>\n",
    "<p>  <br/></p>\n",
    "<h4><font color=#1661AB>Example:</font color=#1661AB></h4>\n",
    "<p>Input: N = 1, K = 1</p>\n",
    "<p>Output: 0</p>\n",
    "<p>  <br/></p>\n",
    "<p>Input: N = 2, K = 1\n",
    "<p>Output: 0\n",
    "<p>  <br/></p>\n",
    "<p>Input: N = 2, K = 2\n",
    "<p>Output: 1\n",
    "<p>  <br/></p>\n",
    "<p>Input: N = 4, K = 5\n",
    "<p>Output: 1\n",
    "<p>  <br/></p>\n",
    "<p>Explanation:\n",
    "<p>row 1: 0\n",
    "<p>row 2: 01\n",
    "<p>row 3: 0110\n",
    "<p>row 4: 01101001\n",
    "<p>  <br/></p>\n",
    "<p><font color=#207F4C>Note:</font color=#207F4C></p>\n",
    "<ol>\n",
    "<li>N will be an integer in the range [1, 30].\n",
    "<li>K will be an integer in the range [1, 2^(N-1)]\n",
    "</ol>"
   ]
  },
  {
   "cell_type": "code",
   "execution_count": 57,
   "metadata": {},
   "outputs": [],
   "source": [
    "def kthGrammar(N: int, K: int):\n",
    "    cache = []\n",
    "    for i in range(N):\n",
    "        row = []\n",
    "        if i  == 0:\n",
    "            row = [0]\n",
    "        else:\n",
    "            for j in cache[i-1]:\n",
    "                if j == 1:\n",
    "                    row.append(1)\n",
    "                    row.append(0)\n",
    "                else:\n",
    "                    row.append(0)\n",
    "                    row.append(1)\n",
    "        cache.append(row)\n",
    "    return cache[N-1][K-1]\n",
    "#该方法在K极大时超时了。"
   ]
  },
  {
   "cell_type": "code",
   "execution_count": 58,
   "metadata": {},
   "outputs": [
    {
     "data": {
      "text/plain": [
       "1"
      ]
     },
     "execution_count": 58,
     "metadata": {},
     "output_type": "execute_result"
    }
   ],
   "source": [
    "kthGrammar(10,2)"
   ]
  },
  {
   "cell_type": "markdown",
   "metadata": {},
   "source": [
    "<p><font color=#207F4C>观察：append否上一行</font color=#207F4C></p>"
   ]
  },
  {
   "cell_type": "code",
   "execution_count": 70,
   "metadata": {},
   "outputs": [],
   "source": [
    "def kthGrammar(N: int, K: int):\n",
    "    cache = []\n",
    "    for i in range(N):\n",
    "        row = []\n",
    "        if i  == 0:\n",
    "            row = [0]\n",
    "        else:\n",
    "            row =  cache[i-1]+ [int(not x) for x in cache[i-1]]\n",
    "        cache.append(row)\n",
    "    return cache[N-1][K-1]\n",
    "#该方法在K极大时也超时了。"
   ]
  },
  {
   "cell_type": "code",
   "execution_count": 71,
   "metadata": {},
   "outputs": [
    {
     "data": {
      "text/plain": [
       "[0, 1, 1, 0, 1, 0, 0, 1]"
      ]
     },
     "execution_count": 71,
     "metadata": {},
     "output_type": "execute_result"
    }
   ],
   "source": [
    "test = [0,1,1,0]\n",
    "test + [int(not x) for x in test]"
   ]
  },
  {
   "cell_type": "code",
   "execution_count": 105,
   "metadata": {},
   "outputs": [],
   "source": [
    "#干脆放弃存储整体的想法\n",
    "def kthGrammar(N: int, K: int):\n",
    "    if N == 1 and K == 1:\n",
    "        return 0\n",
    "    if N == 2 and K == 1:\n",
    "        return 0\n",
    "    if N == 2 and K == 2:\n",
    "        return 1\n",
    "    if N > 2:\n",
    "        if K <= 2 ** (N - 2):\n",
    "            return kthGrammar(N-1, K)\n",
    "        else:\n",
    "            return int(not kthGrammar(N-1, (K-(2 ** (N - 2)))))"
   ]
  },
  {
   "cell_type": "code",
   "execution_count": 109,
   "metadata": {},
   "outputs": [
    {
     "data": {
      "text/plain": [
       "0"
      ]
     },
     "execution_count": 109,
     "metadata": {},
     "output_type": "execute_result"
    }
   ],
   "source": [
    "kthGrammar(3,4)"
   ]
  },
  {
   "cell_type": "markdown",
   "metadata": {},
   "source": [
    "<h3><font color=#1661AB>Unique Binary Search Trees II</font color=#1661AB></h3>\n",
    "<p>Given an integer n, generate all structurally unique BST's (binary search trees) that store values 1 ... n.</p>\n",
    "<p>  <br/></p>\n",
    "<h4><font color=#1661AB>Example:</font color=#1661AB></h4>\n",
    "<p>Input: 3\n",
    "<p>Output: [  [1,null,3,2],  [3,2,null,1],  [3,1,null,null,2],  [2,1,3],  [1,null,2,null,3]  ]\n",
    "<p><font color=#207F4C>注意：不只是全排列，形状也有不同排列方法</font color=#207F4C></p>\n",
    "<p><font color=#207F4C>思考：为什么是5种？什么是Binary Search Tree?</font color=#207F4C></p>\n",
    "<p>  <br/></p>\n",
    "<p><strong>二叉查找树</strong>（Binary Search Tree），也称为二叉搜索树、有序二叉树（ordered binary tree）或排序二叉树（sorted binary tree），是指一棵空树或者具有下列性质的二叉树：</p>\n",
    "<ol>\n",
    "<li>若任意节点的左子树不空，则左子树上所有节点的值均小于它的根节点的值；\n",
    "<li>若任意节点的右子树不空，则右子树上所有节点的值均大于它的根节点的值；\n",
    "<li>任意节点的左、右子树也分别为二叉查找树；\n",
    "<li>没有键值相等的节点。\n",
    "</ol>\n",
    "<p>Ref: <a href=\"https://zh.wikipedia.org/wiki/二元搜尋樹\">wikipedia"
   ]
  },
  {
   "cell_type": "markdown",
   "metadata": {},
   "source": [
    "<p><font color=#207F4C>思考：1个数只有一种，两个数有两种，重要的是添加方法：如果要添加的这个数比root大，可以让他当root，或者添加到root右边</font color=#207F4C></p>"
   ]
  },
  {
   "cell_type": "code",
   "execution_count": null,
   "metadata": {},
   "outputs": [],
   "source": [
    "#查找算法：示例为最小值\n",
    "def find_min(self):   # Gets minimum node (leftmost leaf) in a subtree\n",
    "    current_node = self\n",
    "    while current_node.left_child:\n",
    "        current_node = current_node.left_child\n",
    "    return current_node\n",
    "#插入算法\n",
    "def replace_node_in_parent(self, new_value=None):\n",
    "    if self.parent:\n",
    "        if self == self.parent.left_child:\n",
    "            self.parent.left_child = new_value\n",
    "        else:\n",
    "            self.parent.right_child = new_value\n",
    "    if new_value:\n",
    "        new_value.parent = self.parent\n",
    "#删除算法\n",
    "def binary_tree_delete(self, key):\n",
    "    if key < self.key:\n",
    "        self.left_child.binary_tree_delete(key)\n",
    "    elif key > self.key:\n",
    "        self.right_child.binary_tree_delete(key)\n",
    "    else: # delete the key here\n",
    "        if self.left_child and self.right_child: # if both children are present\n",
    "            successor = self.right_child.find_min()\n",
    "            self.key = successor.key\n",
    "            successor.binary_tree_delete(successor.key)\n",
    "        elif self.left_child:   # if the node has only a *left* child\n",
    "            self.replace_node_in_parent(self.left_child)\n",
    "        elif self.right_child:  # if the node has only a *right* child\n",
    "            self.replace_node_in_parent(self.right_child)\n",
    "        else: # this node has no children\n",
    "            self.replace_node_in_parent(None)"
   ]
  },
  {
   "cell_type": "code",
   "execution_count": null,
   "metadata": {},
   "outputs": [],
   "source": [
    "#Templete Answer\n",
    "class Solution(object):\n",
    "    def generateTrees(self, n):\n",
    "        \"\"\"\n",
    "        :type n: int\n",
    "        :rtype: List[TreeNode]\n",
    "        \"\"\"\n",
    "        if n == 0:\n",
    "            return [[]]\n",
    "        return self.dfs(1, n+1)\n",
    "        \n",
    "    def dfs(self, start, end):\n",
    "        if start == end:\n",
    "            return None\n",
    "        result = []\n",
    "        for i in xrange(start, end):\n",
    "            for l in self.dfs(start, i) or [None]:\n",
    "                for r in self.dfs(i+1, end) or [None]:\n",
    "                    node = TreeNode(i)\n",
    "                    node.left, node.right  = l, r\n",
    "                    result.append(node)\n",
    "        return result"
   ]
  },
  {
   "cell_type": "markdown",
   "metadata": {},
   "source": [
    "<h3><font color=#1661AB>扩展：AVL树（平衡二叉搜索树BBST）</font color=#1661AB></h3>\n",
    "<p>在<strong>AVL树</strong>中，任一节点对应的两棵子树的最大高度差为1，因此它也被称为高度平衡树。查找、插入和删除在平均和最坏情况下的时间复杂度都是<strong>O(logN)</strong>。增加和删除元素的操作则可能需要借由一次或多次树旋转，以实现树的重新平衡。</p>\n",
    "<p>假设平衡因子是左子树的高度减去右子树的高度所得到的值，又假设由于在二叉排序树上插入节点而失去平衡的最小子树根节点的指针为a（即a是离插入点最近，且平衡因子绝对值超过1的祖先节点），则失去平衡后进行的规律可归纳为下列四种情况：</p>\n",
    "<ol>\n",
    "<li>单向右旋平衡处理LL：由于在*a的左子树根节点的左子树上插入节点，*a的平衡因子由1增至2，致使以*a为根的子树失去平衡，则需进行一次右旋转操作；\n",
    "<li>单向左旋平衡处理RR：由于在*a的右子树根节点的右子树上插入节点，*a的平衡因子由-1变为-2，致使以*a为根的子树失去平衡，则需进行一次左旋转操作；\n",
    "<li>双向旋转（先左后右）平衡处理LR：由于在*a的左子树根节点的右子树上插入节点，*a的平衡因子由1增至2，致使以*a为根的子树失去平衡，则需进行两次旋转（先左旋后右旋）操作。\n",
    "<li>双向旋转（先右后左）平衡处理RL：由于在*a的右子树根节点的左子树上插入节点，*a的平衡因子由-1变为-2，致使以*a为根的子树失去平衡，则需进行两次旋转（先右旋后左旋）操作。\n",
    "</ol>\n",
    "<p>Ref: <a href=\"https://zh.wikipedia.org/wiki/AVL树\">wikipedia"
   ]
  },
  {
   "cell_type": "code",
   "execution_count": null,
   "metadata": {},
   "outputs": [],
   "source": [
    "class TreeNode(object):\n",
    "    def __init__(self):\n",
    "        self.data=0\n",
    "        self.left=None\n",
    "        self.right=None\n",
    "        self.height=0\n",
    "class BTree(object):\n",
    "    def __init__(self):\n",
    "        self.root=None\n",
    "    def __Max(self,h1,h2):\n",
    "        if h1>h2:\n",
    "            return h1\n",
    "        elif h1<=h2:\n",
    "            return h2\n",
    "    def __LL(self,r):#左左情况，向右旋转\n",
    "        node=r.left\n",
    "        r.left=node.right\n",
    "        node.right=r\n",
    "        r.height=self.__Max(self.getHeight(r.right),self.getHeight(r.left))+1\n",
    "        node.height=self.__Max(self.getHeight(node.right),self.getHeight(node.left))+1\n",
    "        return node\n",
    "    def __RR(self,r):#右右，左旋\n",
    "        node = r.right\n",
    "        r.right = node.left\n",
    "        node.left = r\n",
    "        r.height = self.__Max(self.getHeight(r.right), self.getHeight(r.left)) + 1\n",
    "        node.height = self.__Max(self.getHeight(node.right), self.getHeight(node.left)) + 1\n",
    "        return node\n",
    "    def __LR(self,r):#左右，先左旋再右旋\n",
    "        r.left=self.__RR(r.left)\n",
    "        return self.__LL(r)\n",
    "    def __RL(self,r):#右左，先右旋再左旋\n",
    "        r.right=self.__LL(r.right)\n",
    "        return self.__RR(r)\n",
    "    def __insert(self,data,r):\n",
    "        if r==None:\n",
    "            node=TreeNode()\n",
    "            node.data=data\n",
    "            return node\n",
    "        elif data==r.data:\n",
    "            return r\n",
    "        elif data<r.data:\n",
    "            r.left=self.__insert(data,r.left)\n",
    "            if self.getHeight(r.left)-self.getHeight(r.right)>=2:\n",
    "                if data<r.left.data:\n",
    "                    r=self.__LL(r)\n",
    "                else:\n",
    "                    r=self.__LR(r)\n",
    "        else:\n",
    "            r.right=self.__insert(data,r.right)\n",
    "            if self.getHeight(r.right)-self.getHeight(r.left)>=2:\n",
    "                if data>r.right.data:\n",
    "                    r=self.__RR(r)\n",
    "                else:\n",
    "                    r=self.__RL(r)\n",
    "        r.height=self.__Max(self.getHeight(r.left),self.getHeight(r.right))+1\n",
    "        return r\n",
    "    # 删除data节点\n",
    "    def __delete(self,data,r):\n",
    "        if r==None:\n",
    "            print \"don't have %d\"%data\n",
    "            return r\n",
    "        elif r.data==data:\n",
    "            if r.left==None:#如果只有右子树，直接将右子树赋值到此节点\n",
    "                return r.right\n",
    "            elif r.right==None:#如果只有左子树，直接将左子树赋值到此节点\n",
    "                return r.left\n",
    "            else:#如果同时有左右子树\n",
    "                if self.getHeight(r.left)>self.getHeight(r.right):#左子树高度大于右子树\n",
    "                    #找到最右节点 返回节点值 并删除该节点\n",
    "                    node=r.left\n",
    "                    while(node.right!=None):\n",
    "                        node=node.right\n",
    "                    r=self.__delete(node.data,r)\n",
    "                    r.data=node.data #实际上是让左子树的最右当新根\n",
    "                    return r\n",
    "                else:#右子树高度大于左子树\n",
    "                    node=r.right\n",
    "                    while node.left!=None:\n",
    "                        node=node.left\n",
    "                    r=self.__delete(node.data,r)\n",
    "                    r.data=node.data\n",
    "                    return r\n",
    "        elif data<r.data:\n",
    "            r.left=self.__delete(data,r.left)#在左子树中删除\n",
    "            if self.getHeight(r.right)-self.getHeight(r.left)>=2:#右子树高度与左子树高度相差超过1\n",
    "                if self.getHeight(r.right.left)>self.getHeight(r.right.right):\n",
    "                    r=self.__RL(r)\n",
    "                else:\n",
    "                    r=self.__RR(r)\n",
    "        elif data>r.data:\n",
    "            r.right=self.__delete(data,r.right)#右子树中删除\n",
    "            if self.getHeight(r.left)-self.getHeight(r.right)>=2:#左子树与右子树高度相差超过1\n",
    "                if self.getHeight(r.left.right)>self.getHeight(r.left.left):\n",
    "                    r=self.__LR(r)\n",
    "                else:\n",
    "                    r=self.__LL(r)\n",
    "        r.height=self.__Max(self.getHeight(r.left),self.getHeight(r.right))+1\n",
    "        return r\n",
    "\n",
    "    def Insert(self,data):\n",
    "        self.root=self.__insert(data,self.root)\n",
    "        return self.root\n",
    "    def Delete(self,data):\n",
    "        self.root=self.__delete(data,self.root)\n",
    "    #求结点的高度\n",
    "    def getHeight(self,node):\n",
    "        if node==None:\n",
    "            return -1\n",
    "        #print node\n",
    "        return node.height"
   ]
  }
 ],
 "metadata": {
  "kernelspec": {
   "display_name": "Python 3",
   "language": "python",
   "name": "python3"
  },
  "language_info": {
   "codemirror_mode": {
    "name": "ipython",
    "version": 3
   },
   "file_extension": ".py",
   "mimetype": "text/x-python",
   "name": "python",
   "nbconvert_exporter": "python",
   "pygments_lexer": "ipython3",
   "version": "3.6.8"
  }
 },
 "nbformat": 4,
 "nbformat_minor": 2
}
