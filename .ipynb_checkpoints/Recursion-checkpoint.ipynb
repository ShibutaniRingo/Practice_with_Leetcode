{
 "cells": [
  {
   "cell_type": "markdown",
   "metadata": {},
   "source": [
    "<h1>Recursion</h1>"
   ]
  },
  {
   "cell_type": "markdown",
   "metadata": {},
   "source": [
    "<h3>Write a function that reverses a string.</h3>\n",
    "<p>The input string is given as an array of characters char.\n",
    "<p>Do not allocate extra space for another array, you must do this by modifying the input array in-place with O(1) extra memory.\n",
    "<p>You may assume all the characters consist of printable ascii characters."
   ]
  },
  {
   "cell_type": "markdown",
   "metadata": {},
   "source": [
    "<h3>Example</h3>\n",
    "<p>Input: [\"h\",\"e\",\"l\",\"l\",\"o\"]\n",
    "<p>Output: [\"o\",\"l\",\"l\",\"e\",\"h\"]"
   ]
  },
  {
   "cell_type": "markdown",
   "metadata": {},
   "source": [
    "<h3>You can easily solve this problem iteratively</h3>\n",
    "i.e. looping through the string starting from its last character. But how about solving it recursively?\n",
    "\n",
    "First, we can define the desired function as <strong>printReverse(str[0...n-1])</strong>, where <strong>str[0]</strong> represents the first character in the string. Then we can accomplish the given task in two steps:\n",
    "<ol>\n",
    "<li>printReverse(str[1...n-1]): print the substring str[1...n-1] in reverse order.</li>\n",
    "<li>print(str[0]): print the first character in the string.</li>\n",
    "</ol>"
   ]
  },
  {
   "cell_type": "code",
   "execution_count": 1,
   "metadata": {},
   "outputs": [],
   "source": [
    "def reverseString(s) -> None:\n",
    "    \"\"\"\n",
    "    Do not return anything, modify s in-place instead.\n",
    "    \"\"\"\n",
    "    head = 0\n",
    "    tail = len(s) - 1\n",
    "    while head <= tail:\n",
    "        ans = s[head]\n",
    "        s[head] = s[tail]\n",
    "        s[tail] = ans\n",
    "        head = head + 1\n",
    "        tail = tail - 1"
   ]
  },
  {
   "cell_type": "code",
   "execution_count": 2,
   "metadata": {},
   "outputs": [
    {
     "data": {
      "text/plain": [
       "['o', 'l', 'l', 'e', 'h']"
      ]
     },
     "execution_count": 2,
     "metadata": {},
     "output_type": "execute_result"
    }
   ],
   "source": [
    "s=[\"h\",\"e\",\"l\",\"l\",\"o\"]\n",
    "reverseString(s)\n",
    "s"
   ]
  },
  {
   "cell_type": "code",
   "execution_count": 110,
   "metadata": {},
   "outputs": [],
   "source": [
    "def reverseString_recursive(s) :\n",
    "    for i in range(len(s)):\n",
    "        if len(s) > 1:\n",
    "            a = [s[-1]]  +  reverseString_recursive(s[0:-1])\n",
    "        else:\n",
    "            a = s\n",
    "        return a"
   ]
  },
  {
   "cell_type": "code",
   "execution_count": 111,
   "metadata": {},
   "outputs": [
    {
     "data": {
      "text/plain": [
       "['o', 'l', 'l', 'e', 'h']"
      ]
     },
     "execution_count": 111,
     "metadata": {},
     "output_type": "execute_result"
    }
   ],
   "source": [
    "s=[\"h\",\"e\",\"l\",\"l\",\"o\"]\n",
    "reverseString_recursive(s)"
   ]
  },
  {
   "cell_type": "markdown",
   "metadata": {},
   "source": [
    "<h3>Recursive Function</h3>\n",
    "In the function F(X), we'll:\n",
    "<ol>\n",
    "<li>Break the problem down into smaller scopes, x0, x1, etc (belong to X)</li>\n",
    "<li>Call function F(x0), F(x1) ... F(xn) recursively to solve subproblem of X</li>\n",
    "<li>Process the results from the recursive function calls to solve the problem corresponding to X</li>\n",
    "</ol>\n",
    "<h4>我觉得</h4>\n",
    "<p>实际上可以分为两部分：</p>\n",
    "<ol>\n",
    "<li>将问题分解成倒数第二简单的情况，在这种情况下只要作一次操作就可以解决问题。</li>\n",
    "<li>解决问题最简单的情况（如长度0和1时）怎么处理</li>\n",
    "</ol>"
   ]
  },
  {
   "cell_type": "markdown",
   "metadata": {},
   "source": [
    "<h3>Swap Nodes in Pairs</h3>\n",
    "<p>Given a linked list, swap every two adjacent nodes and return its head.</p>\n",
    "<p>e.g.  for a list 1-> 2 -> 3 -> 4, one should return the head of list as 2 -> 1 -> 4 -> 3.</p>\n",
    "<ol>\n",
    "<li>First, we swap the first two nodes in the list, i.e. head and head.next.</li>\n",
    "<li>Then, we call the function self as swap(head.next.next) to swap the rest of the list following the first two nodes.</li>\n",
    "<li>Finally, we attach the returned head of the sub-list in step (2) with the two nodes swapped in step (1) to form a new linked list.</li>\n",
    "</ol>"
   ]
  },
  {
   "cell_type": "code",
   "execution_count": 127,
   "metadata": {},
   "outputs": [],
   "source": [
    "class ListNode:\n",
    "    def __init__(self, x):\n",
    "        self.val = x\n",
    "        self.next = None\n",
    "        \n",
    "#Example\n",
    "class Solution:\n",
    "    def swapPairs(self, head: ListNode) -> ListNode:\n",
    "        if head == None or head.next == None:\n",
    "            return head\n",
    "        \n",
    "        dummy = ListNode(0)\n",
    "        dummy.next = head\n",
    "        ans = dummy\n",
    "        \n",
    "        \n",
    "        while ans.next != None and ans.next.next != None:\n",
    "            first = ans.next\n",
    "            second = ans.next.next\n",
    "            \n",
    "            first.next = second.next  \n",
    "            second.next = first #换头\n",
    "            \n",
    "            ans.next = second  #此处实际上更新了dummy\n",
    "            ans = ans.next.next #重新设定开始\n",
    "            \n",
    "        return dummy.next"
   ]
  },
  {
   "cell_type": "code",
   "execution_count": null,
   "metadata": {},
   "outputs": [],
   "source": []
  }
 ],
 "metadata": {
  "kernelspec": {
   "display_name": "Python 3",
   "language": "python",
   "name": "python3"
  },
  "language_info": {
   "codemirror_mode": {
    "name": "ipython",
    "version": 3
   },
   "file_extension": ".py",
   "mimetype": "text/x-python",
   "name": "python",
   "nbconvert_exporter": "python",
   "pygments_lexer": "ipython3",
   "version": "3.6.8"
  }
 },
 "nbformat": 4,
 "nbformat_minor": 2
}
