{
 "cells": [
  {
   "cell_type": "markdown",
   "metadata": {},
   "source": [
    "<h1><font color=#1661AB>Top Interview Questions</font color=#1661AB></h1>"
   ]
  },
  {
   "cell_type": "markdown",
   "metadata": {},
   "source": [
    "<h3><font color=#1661AB>Remove Duplicates from Sorted Array</font color=#1661AB></h3>\n",
    "<p>Given a sorted array nums, remove the duplicates in-place such that each element appear only once and return the new length.\n",
    "<p>Do not allocate extra space for another array, you must do this by <strong>modifying the input array in-place with O(1) extra memory</strong>."
   ]
  },
  {
   "cell_type": "code",
   "execution_count": 1,
   "metadata": {},
   "outputs": [],
   "source": [
    "def removeDuplicates(nums) -> int:\n",
    "    if len(nums) < 1:\n",
    "        return len(nums)\n",
    "    else:\n",
    "        j = len(nums)\n",
    "        i = 0\n",
    "        while i<j:\n",
    "            if nums[i] in nums[i+1:]:\n",
    "                nums.pop(i)\n",
    "                j=j-1\n",
    "            else:\n",
    "                i=i+1    \n",
    "    return len(nums)"
   ]
  },
  {
   "cell_type": "code",
   "execution_count": 8,
   "metadata": {},
   "outputs": [
    {
     "data": {
      "text/plain": [
       "5"
      ]
     },
     "execution_count": 8,
     "metadata": {},
     "output_type": "execute_result"
    }
   ],
   "source": [
    "nums = [0,0,1,1,1,2,2,3,3,4]\n",
    "removeDuplicates(nums)"
   ]
  },
  {
   "cell_type": "code",
   "execution_count": 9,
   "metadata": {},
   "outputs": [
    {
     "data": {
      "text/plain": [
       "[0, 1, 2, 3, 4]"
      ]
     },
     "execution_count": 9,
     "metadata": {},
     "output_type": "execute_result"
    }
   ],
   "source": [
    "nums"
   ]
  },
  {
   "cell_type": "code",
   "execution_count": 7,
   "metadata": {},
   "outputs": [],
   "source": [
    "def removeDuplicates(nums):\n",
    "    nums[:] = sorted(set(nums))  #set()自动dedup，nums[:]不分配新的空间\n",
    "    return len(nums)"
   ]
  },
  {
   "cell_type": "markdown",
   "metadata": {},
   "source": [
    "<h3><font color=#1661AB>Best Time to Buy and Sell Stock II</font color=#1661AB></h3>\n",
    "<p>Say you have an array for which the ith element is the price of a given stock on day i.\n",
    "<p>Design an algorithm to find the maximum profit. You may complete as many transactions as you like (i.e., buy one and sell one share of the stock multiple times)."
   ]
  },
  {
   "cell_type": "code",
   "execution_count": 45,
   "metadata": {},
   "outputs": [],
   "source": [
    "def maxProfit(prices):\n",
    "    i = 0\n",
    "    j = 1\n",
    "    sum_profit = 0\n",
    "    while i<len(prices)-1 and j<=len(prices)-1:\n",
    "        if prices[i]>=prices[j]:\n",
    "            i=i+1\n",
    "            j=j+1\n",
    "        elif j == len(prices)-1:\n",
    "            sum_profit = sum_profit + (prices[j]-prices[i])\n",
    "            print(\"buy at %s and sell at %s, %s earned\"%(prices[i],prices[j],prices[j]-prices[i]))\n",
    "            break\n",
    "        elif prices[j] <= prices[j+1]:\n",
    "            j=j+1\n",
    "        else:\n",
    "            sum_profit = sum_profit + (prices[j]-prices[i])\n",
    "            print(\"buy at %s and sell at %s, %s earned\"%(prices[i],prices[j],prices[j]-prices[i]))\n",
    "            i = j+1\n",
    "            j = j+2\n",
    "    return sum_profit"
   ]
  },
  {
   "cell_type": "code",
   "execution_count": 52,
   "metadata": {},
   "outputs": [
    {
     "name": "stdout",
     "output_type": "stream",
     "text": [
      "buy at 1 and sell at 5, 4 earned\n",
      "buy at 3 and sell at 6, 3 earned\n"
     ]
    },
    {
     "data": {
      "text/plain": [
       "7"
      ]
     },
     "execution_count": 52,
     "metadata": {},
     "output_type": "execute_result"
    }
   ],
   "source": [
    "prices=[7,1,5,3,6,4]\n",
    "maxProfit(prices)"
   ]
  },
  {
   "cell_type": "code",
   "execution_count": 50,
   "metadata": {},
   "outputs": [],
   "source": [
    "#实际上只要每天结算和前一天的就行了QAQ\n",
    "def maxProfit(prices):\n",
    "    i = 0\n",
    "    j = 1\n",
    "    sum_profit = 0\n",
    "    while i<len(prices)-1 and j<=len(prices)-1:\n",
    "        if prices[i]>=prices[j]:\n",
    "            i=i+1\n",
    "            j=j+1\n",
    "        else:\n",
    "            sum_profit = sum_profit = sum_profit + (prices[j]-prices[i])\n",
    "            print(\"buy at %s and sell at %s, %s earned\"%(prices[i],prices[j],prices[j]-prices[i]))\n",
    "            i=i+1\n",
    "            j=j+1\n",
    "    return sum_profit"
   ]
  },
  {
   "cell_type": "code",
   "execution_count": 53,
   "metadata": {},
   "outputs": [
    {
     "name": "stdout",
     "output_type": "stream",
     "text": [
      "[0, 1, 2, 3, 4]\n"
     ]
    }
   ],
   "source": [
    "print(list(range(5)))"
   ]
  },
  {
   "cell_type": "markdown",
   "metadata": {},
   "source": [
    "<h3><font color=#1661AB>Single Number</font color=#1661AB></h3>\n",
    "<p>Given a non-empty array of integers, every element appears twice except for one. Find that single one."
   ]
  },
  {
   "cell_type": "code",
   "execution_count": 54,
   "metadata": {},
   "outputs": [],
   "source": [
    "def singleNumber(nums) -> int:\n",
    "        return sum(set(nums))*2 -sum(nums)"
   ]
  },
  {
   "cell_type": "code",
   "execution_count": 55,
   "metadata": {},
   "outputs": [
    {
     "data": {
      "text/plain": [
       "4"
      ]
     },
     "execution_count": 55,
     "metadata": {},
     "output_type": "execute_result"
    }
   ],
   "source": [
    "nums = [4,1,2,1,2]\n",
    "singleNumber(nums)"
   ]
  },
  {
   "cell_type": "markdown",
   "metadata": {},
   "source": [
    "<h4><font color=#1661AB>Approach 2: Hash Table</font color=#1661AB></h4>\n",
    "<p>We use hash table to avoid the O(n) time required for searching the elements.\n",
    "<ol>\n",
    "<li>Iterate through all elements in nums\n",
    "<li>Try if hash_table has the key for pop\n",
    "<li>If not, set up key/value pair\n",
    "<li>In the end, there is only one element in hash_table, so use popitem to get it\n",
    "</ol>\n",
    "<h4><font color=#207F4C>Hash Table</font color=#207F4C></h4>\n",
    "<p>a hash table (hash map) is a data structure that implements an associative array abstract data type, a structure that can map keys to values. A hash table uses a hash function to compute an index, also called a hash code, into an array of buckets or slots, from which the desired value can be found.\n",
    "<h4><font color=#207F4C>Python Dictionary pop()</font color=#207F4C></h4>\n",
    "The pop() method removes and returns an element from a dictionary having the given key."
   ]
  },
  {
   "cell_type": "code",
   "execution_count": 56,
   "metadata": {},
   "outputs": [],
   "source": [
    "def singleNumber(nums):\n",
    "        hash_table = {}\n",
    "        for i in nums:\n",
    "            try:\n",
    "                hash_table.pop(i) \n",
    "            except:\n",
    "                hash_table[i] = 1 #如果没有，就把它添加到dict，如果有，就把它删除\n",
    "        return hash_table.popitem()[0]"
   ]
  },
  {
   "cell_type": "code",
   "execution_count": 57,
   "metadata": {},
   "outputs": [
    {
     "data": {
      "text/plain": [
       "4"
      ]
     },
     "execution_count": 57,
     "metadata": {},
     "output_type": "execute_result"
    }
   ],
   "source": [
    "nums = [4,1,2,1,2]\n",
    "singleNumber(nums)"
   ]
  },
  {
   "cell_type": "code",
   "execution_count": 82,
   "metadata": {},
   "outputs": [],
   "source": [
    "def intersect(nums1, nums2):\n",
    "    if not nums1 or not nums2:\n",
    "        return []\n",
    "    i = 0\n",
    "    j = 0\n",
    "    result=[]\n",
    "    while i<len(nums1) and j<len(nums2):\n",
    "        if sorted(nums1)[i] < sorted(nums2)[j]:\n",
    "            i = i+1\n",
    "        elif sorted(nums1)[i] > sorted(nums2)[j]:\n",
    "            j = j+1\n",
    "        else :\n",
    "            result.append(sorted(nums1)[i])\n",
    "            i = i+1\n",
    "            j = j+1  \n",
    "    return result"
   ]
  },
  {
   "cell_type": "code",
   "execution_count": 94,
   "metadata": {},
   "outputs": [
    {
     "data": {
      "text/plain": [
       "[2, 2]"
      ]
     },
     "execution_count": 94,
     "metadata": {},
     "output_type": "execute_result"
    }
   ],
   "source": [
    "nums1=[1,2,2,1]\n",
    "nums2=[2,2]\n",
    "intersect(nums1, nums2)"
   ]
  },
  {
   "cell_type": "code",
   "execution_count": 90,
   "metadata": {},
   "outputs": [],
   "source": [
    "    #hash table solution:O(m+n)\n",
    "    def intersect(nums1, nums2):\n",
    "        counts = {}\n",
    "        res = []\n",
    "        \n",
    "        for num in nums1:\n",
    "            counts[num] = counts.get(num, 0) + 1\n",
    "\n",
    "        for num in nums2:\n",
    "            if num in counts and counts[num] > 0:\n",
    "                res.append(num)\n",
    "                counts[num] -= 1\n",
    "        return res"
   ]
  },
  {
   "cell_type": "code",
   "execution_count": 93,
   "metadata": {},
   "outputs": [],
   "source": [
    "import collections\n",
    "def intersect(nums1, nums2):\n",
    "    a, b = map(collections.Counter, (nums1, nums2))\n",
    "    return list((a & b).elements())"
   ]
  },
  {
   "cell_type": "code",
   "execution_count": null,
   "metadata": {},
   "outputs": [],
   "source": [
    "def intersect(nums1, nums2):\n",
    "    intersect = []\n",
    "    for el in nums1:\n",
    "        if nums2.__contains__(el):\n",
    "            nums2.remove(el) #这里remove的用意是防止 [3,1,2], [2,2]这种情况\n",
    "            intersect.append(el)\n",
    "            if nums2 == []:\n",
    "                break\n",
    "\n",
    "    return intersect"
   ]
  }
 ],
 "metadata": {
  "kernelspec": {
   "display_name": "Python 3",
   "language": "python",
   "name": "python3"
  },
  "language_info": {
   "codemirror_mode": {
    "name": "ipython",
    "version": 3
   },
   "file_extension": ".py",
   "mimetype": "text/x-python",
   "name": "python",
   "nbconvert_exporter": "python",
   "pygments_lexer": "ipython3",
   "version": "3.6.8"
  }
 },
 "nbformat": 4,
 "nbformat_minor": 2
}
