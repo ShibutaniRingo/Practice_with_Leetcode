{
 "cells": [
  {
   "cell_type": "markdown",
   "metadata": {},
   "source": [
    "<h1><font color=#1661AB>Top Interview Questions</font color=#1661AB></h1>"
   ]
  },
  {
   "cell_type": "markdown",
   "metadata": {},
   "source": [
    "<h3><font color=#1661AB>Remove Duplicates from Sorted Array</font color=#1661AB></h3>\n",
    "<p>Given a sorted array nums, remove the duplicates in-place such that each element appear only once and return the new length.\n",
    "<p>Do not allocate extra space for another array, you must do this by <strong>modifying the input array in-place with O(1) extra memory</strong>."
   ]
  },
  {
   "cell_type": "code",
   "execution_count": 1,
   "metadata": {},
   "outputs": [],
   "source": [
    "def removeDuplicates(nums) -> int:\n",
    "    if len(nums) < 1:\n",
    "        return len(nums)\n",
    "    else:\n",
    "        j = len(nums)\n",
    "        i = 0\n",
    "        while i<j:\n",
    "            if nums[i] in nums[i+1:]:\n",
    "                nums.pop(i)\n",
    "                j=j-1\n",
    "            else:\n",
    "                i=i+1    \n",
    "    return len(nums)"
   ]
  },
  {
   "cell_type": "code",
   "execution_count": 8,
   "metadata": {},
   "outputs": [
    {
     "data": {
      "text/plain": [
       "5"
      ]
     },
     "execution_count": 8,
     "metadata": {},
     "output_type": "execute_result"
    }
   ],
   "source": [
    "nums = [0,0,1,1,1,2,2,3,3,4]\n",
    "removeDuplicates(nums)"
   ]
  },
  {
   "cell_type": "code",
   "execution_count": 9,
   "metadata": {},
   "outputs": [
    {
     "data": {
      "text/plain": [
       "[0, 1, 2, 3, 4]"
      ]
     },
     "execution_count": 9,
     "metadata": {},
     "output_type": "execute_result"
    }
   ],
   "source": [
    "nums"
   ]
  },
  {
   "cell_type": "code",
   "execution_count": 7,
   "metadata": {},
   "outputs": [],
   "source": [
    "def removeDuplicates(nums):\n",
    "    nums[:] = sorted(set(nums))  #set()自动dedup，nums[:]不分配新的空间\n",
    "    return len(nums)"
   ]
  },
  {
   "cell_type": "markdown",
   "metadata": {},
   "source": [
    "<h3><font color=#1661AB>Best Time to Buy and Sell Stock II</font color=#1661AB></h3>\n",
    "<p>Say you have an array for which the ith element is the price of a given stock on day i.\n",
    "<p>Design an algorithm to find the maximum profit. You may complete as many transactions as you like (i.e., buy one and sell one share of the stock multiple times)."
   ]
  },
  {
   "cell_type": "code",
   "execution_count": 45,
   "metadata": {},
   "outputs": [],
   "source": [
    "def maxProfit(prices):\n",
    "    i = 0\n",
    "    j = 1\n",
    "    sum_profit = 0\n",
    "    while i<len(prices)-1 and j<=len(prices)-1:\n",
    "        if prices[i]>=prices[j]:\n",
    "            i=i+1\n",
    "            j=j+1\n",
    "        elif j == len(prices)-1:\n",
    "            sum_profit = sum_profit + (prices[j]-prices[i])\n",
    "            print(\"buy at %s and sell at %s, %s earned\"%(prices[i],prices[j],prices[j]-prices[i]))\n",
    "            break\n",
    "        elif prices[j] <= prices[j+1]:\n",
    "            j=j+1\n",
    "        else:\n",
    "            sum_profit = sum_profit + (prices[j]-prices[i])\n",
    "            print(\"buy at %s and sell at %s, %s earned\"%(prices[i],prices[j],prices[j]-prices[i]))\n",
    "            i = j+1\n",
    "            j = j+2\n",
    "    return sum_profit"
   ]
  },
  {
   "cell_type": "code",
   "execution_count": 52,
   "metadata": {},
   "outputs": [
    {
     "name": "stdout",
     "output_type": "stream",
     "text": [
      "buy at 1 and sell at 5, 4 earned\n",
      "buy at 3 and sell at 6, 3 earned\n"
     ]
    },
    {
     "data": {
      "text/plain": [
       "7"
      ]
     },
     "execution_count": 52,
     "metadata": {},
     "output_type": "execute_result"
    }
   ],
   "source": [
    "prices=[7,1,5,3,6,4]\n",
    "maxProfit(prices)"
   ]
  },
  {
   "cell_type": "code",
   "execution_count": 50,
   "metadata": {},
   "outputs": [],
   "source": [
    "#实际上只要每天结算和前一天的就行了QAQ\n",
    "def maxProfit(prices):\n",
    "    i = 0\n",
    "    j = 1\n",
    "    sum_profit = 0\n",
    "    while i<len(prices)-1 and j<=len(prices)-1:\n",
    "        if prices[i]>=prices[j]:\n",
    "            i=i+1\n",
    "            j=j+1\n",
    "        else:\n",
    "            sum_profit = sum_profit = sum_profit + (prices[j]-prices[i])\n",
    "            print(\"buy at %s and sell at %s, %s earned\"%(prices[i],prices[j],prices[j]-prices[i]))\n",
    "            i=i+1\n",
    "            j=j+1\n",
    "    return sum_profit"
   ]
  },
  {
   "cell_type": "code",
   "execution_count": 53,
   "metadata": {},
   "outputs": [
    {
     "name": "stdout",
     "output_type": "stream",
     "text": [
      "[0, 1, 2, 3, 4]\n"
     ]
    }
   ],
   "source": [
    "print(list(range(5)))"
   ]
  },
  {
   "cell_type": "markdown",
   "metadata": {},
   "source": [
    "<h3><font color=#1661AB>Single Number</font color=#1661AB></h3>\n",
    "<p>Given a non-empty array of integers, every element appears twice except for one. Find that single one."
   ]
  },
  {
   "cell_type": "code",
   "execution_count": 54,
   "metadata": {},
   "outputs": [],
   "source": [
    "def singleNumber(nums) -> int:\n",
    "        return sum(set(nums))*2 -sum(nums)"
   ]
  },
  {
   "cell_type": "code",
   "execution_count": 55,
   "metadata": {},
   "outputs": [
    {
     "data": {
      "text/plain": [
       "4"
      ]
     },
     "execution_count": 55,
     "metadata": {},
     "output_type": "execute_result"
    }
   ],
   "source": [
    "nums = [4,1,2,1,2]\n",
    "singleNumber(nums)"
   ]
  },
  {
   "cell_type": "markdown",
   "metadata": {},
   "source": [
    "<h4><font color=#1661AB>Approach 2: Hash Table</font color=#1661AB></h4>\n",
    "<p>We use hash table to avoid the O(n) time required for searching the elements.\n",
    "<ol>\n",
    "<li>Iterate through all elements in nums\n",
    "<li>Try if hash_table has the key for pop\n",
    "<li>If not, set up key/value pair\n",
    "<li>In the end, there is only one element in hash_table, so use popitem to get it\n",
    "</ol>\n",
    "<h4><font color=#207F4C>Hash Table</font color=#207F4C></h4>\n",
    "<p>a hash table (hash map) is a data structure that implements an associative array abstract data type, a structure that can map keys to values. A hash table uses a hash function to compute an index, also called a hash code, into an array of buckets or slots, from which the desired value can be found.\n",
    "<h4><font color=#207F4C>Python Dictionary pop()</font color=#207F4C></h4>\n",
    "The pop() method removes and returns an element from a dictionary having the given key."
   ]
  },
  {
   "cell_type": "code",
   "execution_count": 56,
   "metadata": {},
   "outputs": [],
   "source": [
    "def singleNumber(nums):\n",
    "        hash_table = {}\n",
    "        for i in nums:\n",
    "            try:\n",
    "                hash_table.pop(i) \n",
    "            except:\n",
    "                hash_table[i] = 1 #如果没有，就把它添加到dict，如果有，就把它删除\n",
    "        return hash_table.popitem()[0]"
   ]
  },
  {
   "cell_type": "code",
   "execution_count": 57,
   "metadata": {},
   "outputs": [
    {
     "data": {
      "text/plain": [
       "4"
      ]
     },
     "execution_count": 57,
     "metadata": {},
     "output_type": "execute_result"
    }
   ],
   "source": [
    "nums = [4,1,2,1,2]\n",
    "singleNumber(nums)"
   ]
  },
  {
   "cell_type": "code",
   "execution_count": 82,
   "metadata": {},
   "outputs": [],
   "source": [
    "def intersect(nums1, nums2):\n",
    "    if not nums1 or not nums2:\n",
    "        return []\n",
    "    i = 0\n",
    "    j = 0\n",
    "    result=[]\n",
    "    while i<len(nums1) and j<len(nums2):\n",
    "        if sorted(nums1)[i] < sorted(nums2)[j]:\n",
    "            i = i+1\n",
    "        elif sorted(nums1)[i] > sorted(nums2)[j]:\n",
    "            j = j+1\n",
    "        else :\n",
    "            result.append(sorted(nums1)[i])\n",
    "            i = i+1\n",
    "            j = j+1  \n",
    "    return result"
   ]
  },
  {
   "cell_type": "code",
   "execution_count": 94,
   "metadata": {},
   "outputs": [
    {
     "data": {
      "text/plain": [
       "[2, 2]"
      ]
     },
     "execution_count": 94,
     "metadata": {},
     "output_type": "execute_result"
    }
   ],
   "source": [
    "nums1=[1,2,2,1]\n",
    "nums2=[2,2]\n",
    "intersect(nums1, nums2)"
   ]
  },
  {
   "cell_type": "code",
   "execution_count": 90,
   "metadata": {},
   "outputs": [],
   "source": [
    "    #hash table solution:O(m+n)\n",
    "    def intersect(nums1, nums2):\n",
    "        counts = {}\n",
    "        res = []\n",
    "        \n",
    "        for num in nums1:\n",
    "            counts[num] = counts.get(num, 0) + 1\n",
    "\n",
    "        for num in nums2:\n",
    "            if num in counts and counts[num] > 0:\n",
    "                res.append(num)\n",
    "                counts[num] -= 1\n",
    "        return res"
   ]
  },
  {
   "cell_type": "code",
   "execution_count": 93,
   "metadata": {},
   "outputs": [],
   "source": [
    "import collections\n",
    "def intersect(nums1, nums2):\n",
    "    a, b = map(collections.Counter, (nums1, nums2))\n",
    "    return list((a & b).elements())"
   ]
  },
  {
   "cell_type": "code",
   "execution_count": null,
   "metadata": {},
   "outputs": [],
   "source": [
    "def intersect(nums1, nums2):\n",
    "    intersect = []\n",
    "    for el in nums1:\n",
    "        if nums2.__contains__(el):\n",
    "            nums2.remove(el) #这里remove的用意是防止 [3,1,2], [2,2]这种情况\n",
    "            intersect.append(el)\n",
    "            if nums2 == []:\n",
    "                break\n",
    "\n",
    "    return intersect"
   ]
  },
  {
   "cell_type": "code",
   "execution_count": 121,
   "metadata": {},
   "outputs": [],
   "source": [
    "    def plusOne(digits):\n",
    "        digits = [0] + digits\n",
    "        digits[-1] = digits[-1]+1\n",
    "        \n",
    "        for i in range(len(digits)-1,0,-1):\n",
    "            while digits[i] > 9:\n",
    "                digits[i] = (digits[i])%10\n",
    "                digits[i-1] = digits[i-1] +1\n",
    "                i = i -1\n",
    "                \n",
    "        if digits[0] != 0:\n",
    "            return digits\n",
    "        else:\n",
    "            return digits[1:]"
   ]
  },
  {
   "cell_type": "code",
   "execution_count": 125,
   "metadata": {},
   "outputs": [
    {
     "data": {
      "text/plain": [
       "[1, 0]"
      ]
     },
     "execution_count": 125,
     "metadata": {},
     "output_type": "execute_result"
    }
   ],
   "source": [
    "digits=[9]\n",
    "plusOne(digits)"
   ]
  },
  {
   "cell_type": "code",
   "execution_count": 173,
   "metadata": {},
   "outputs": [],
   "source": [
    "def moveZeroes(nums):\n",
    "    nums[:] = list(filter(lambda x: x!=0,nums))+list(filter(lambda x: x==0,nums))"
   ]
  },
  {
   "cell_type": "code",
   "execution_count": 174,
   "metadata": {},
   "outputs": [
    {
     "data": {
      "text/plain": [
       "[1, 0, 0]"
      ]
     },
     "execution_count": 174,
     "metadata": {},
     "output_type": "execute_result"
    }
   ],
   "source": [
    "nums=[0,0,1]\n",
    "moveZeroes(nums)\n",
    "nums"
   ]
  },
  {
   "cell_type": "code",
   "execution_count": 175,
   "metadata": {},
   "outputs": [],
   "source": [
    "#traverse and swap last 0 and last non 0\n",
    "def moveZeroes(nums):\n",
    "        last0 = 0\n",
    "        for i in range(0,len(nums)):\n",
    "            if (nums[i]!=0):\n",
    "                nums[i],nums[last0] = nums[last0],nums[i]\n",
    "                last0+=1"
   ]
  },
  {
   "cell_type": "code",
   "execution_count": 176,
   "metadata": {},
   "outputs": [
    {
     "data": {
      "text/plain": [
       "[1, 0, 0]"
      ]
     },
     "execution_count": 176,
     "metadata": {},
     "output_type": "execute_result"
    }
   ],
   "source": [
    "nums=[0,0,1]\n",
    "moveZeroes(nums)\n",
    "nums"
   ]
  },
  {
   "cell_type": "code",
   "execution_count": 185,
   "metadata": {},
   "outputs": [],
   "source": [
    "def twoSum(nums, target):\n",
    "        for i,item in enumerate(nums):\n",
    "            if target-item in nums and nums.index(target-item) !=i:\n",
    "                return sorted([i,nums.index(target-item)])"
   ]
  },
  {
   "cell_type": "code",
   "execution_count": 195,
   "metadata": {},
   "outputs": [
    {
     "data": {
      "text/plain": [
       "[0, 1]"
      ]
     },
     "execution_count": 195,
     "metadata": {},
     "output_type": "execute_result"
    }
   ],
   "source": [
    "twoSum([3,3],6)"
   ]
  },
  {
   "cell_type": "code",
   "execution_count": 194,
   "metadata": {},
   "outputs": [],
   "source": [
    "def twoSum(nums, target):\n",
    "        hash_map={}\n",
    "        for i,item in enumerate(nums):\n",
    "            if target - item in hash_map:\n",
    "                return [hash_map[target-item],i]\n",
    "            hash_map[item] = i"
   ]
  },
  {
   "cell_type": "code",
   "execution_count": 310,
   "metadata": {},
   "outputs": [],
   "source": [
    "board = [\n",
    "  [\"5\",\"3\",\".\",\".\",\"7\",\".\",\".\",\".\",\".\"],\n",
    "  [\"6\",\".\",\".\",\"1\",\"9\",\"5\",\".\",\".\",\".\"],\n",
    "  [\".\",\"9\",\"8\",\".\",\".\",\".\",\".\",\"6\",\".\"],\n",
    "  [\"8\",\".\",\".\",\".\",\"6\",\".\",\".\",\".\",\"3\"],\n",
    "  [\"4\",\".\",\".\",\"8\",\".\",\"3\",\".\",\".\",\"1\"],\n",
    "  [\"7\",\".\",\".\",\".\",\"2\",\".\",\".\",\".\",\"6\"],\n",
    "  [\".\",\"6\",\".\",\".\",\".\",\".\",\"2\",\"8\",\".\"],\n",
    "  [\".\",\".\",\".\",\"4\",\"1\",\"9\",\".\",\".\",\"5\"],\n",
    "  [\".\",\".\",\".\",\".\",\"8\",\".\",\".\",\"7\",\"9\"]\n",
    "]"
   ]
  },
  {
   "cell_type": "code",
   "execution_count": 311,
   "metadata": {},
   "outputs": [],
   "source": [
    "    def isValidSudoku(board):\n",
    "        #row and column\n",
    "        ticker = True\n",
    "        def examine(rc):\n",
    "            ticker = True\n",
    "            for i in range(len(rc)-1):\n",
    "                if rc[i] !=\".\" and rc[i] in rc[i+1:]:\n",
    "                    ticker=False\n",
    "            return ticker\n",
    "        \n",
    "        def blockIndex(board):\n",
    "            new_board = []\n",
    "            for i in [0,3,6]:\n",
    "                for j in [0,3,6]:\n",
    "                    new_board.append([board[x][y] for x in range(i,i+3) for y in range(j,j+3)]) \n",
    "            return new_board\n",
    "        \n",
    "        for i in range(9):\n",
    "            ticker = ticker and examine(board[i]) and examine([item[i] for item in board]) and examine(blockIndex(board)[i]) \n",
    "        return ticker\n",
    "    #太慢了"
   ]
  },
  {
   "cell_type": "code",
   "execution_count": 312,
   "metadata": {},
   "outputs": [
    {
     "data": {
      "text/plain": [
       "True"
      ]
     },
     "execution_count": 312,
     "metadata": {},
     "output_type": "execute_result"
    }
   ],
   "source": [
    "isValidSudoku(board)"
   ]
  },
  {
   "cell_type": "code",
   "execution_count": 329,
   "metadata": {},
   "outputs": [],
   "source": [
    "def rotate(matrix):\n",
    "    for i in range(len(matrix)//2):\n",
    "        symm = len(matrix)-1-i \n",
    "        matrix[i],matrix[symm] = matrix[symm],matrix[i] \n",
    "    for i in range(len(matrix)):\n",
    "        for j in range(len(matrix)):\n",
    "            if j < i:\n",
    "                matrix[i][j],matrix[j][i] = matrix[j][i],matrix[i][j]"
   ]
  },
  {
   "cell_type": "code",
   "execution_count": 330,
   "metadata": {},
   "outputs": [
    {
     "data": {
      "text/plain": [
       "[[7, 4, 1], [8, 5, 2], [9, 6, 3]]"
      ]
     },
     "execution_count": 330,
     "metadata": {},
     "output_type": "execute_result"
    }
   ],
   "source": [
    "matrix = [\n",
    "  [1,2,3],\n",
    "  [4,5,6],\n",
    "  [7,8,9]]\n",
    "rotate(matrix)\n",
    "matrix"
   ]
  },
  {
   "cell_type": "code",
   "execution_count": 350,
   "metadata": {},
   "outputs": [],
   "source": [
    "def reverse(x):\n",
    "    ticker = False\n",
    "    if x < 0:\n",
    "        s = list(str(-x))\n",
    "        ticker = True\n",
    "    else:\n",
    "        s = list(str(x))\n",
    "    head = 0\n",
    "    tail = len(s)-1\n",
    "    while head<tail:\n",
    "        s[head],s[tail] = s[tail],s[head]\n",
    "        head = head+1\n",
    "        tail = tail-1\n",
    "    s = \"\".join(s)\n",
    "    if ticker:\n",
    "        result = -int(s)\n",
    "    else:\n",
    "        result = int(s)\n",
    "    if result<-(2**31) or result>(2**31-1):\n",
    "        return 0\n",
    "    return result"
   ]
  },
  {
   "cell_type": "code",
   "execution_count": 354,
   "metadata": {},
   "outputs": [],
   "source": [
    "def reverse(x):\n",
    "    ticker = False\n",
    "    if x < 0:\n",
    "        s = str(-x)\n",
    "        ticker = True\n",
    "    else:\n",
    "        s = str(s)\n",
    "    \n",
    "    n = s[::-1] \n",
    "    \n",
    "    if ticker:\n",
    "        result = -int(n)\n",
    "    else:\n",
    "        result = int(n)\n",
    "    if result<-(2**31) or result>(2**31-1):\n",
    "        return 0\n",
    "    return result"
   ]
  },
  {
   "cell_type": "code",
   "execution_count": 10,
   "metadata": {},
   "outputs": [],
   "source": [
    "import re\n",
    "pattern = re.compile(r'[0-9-]+')\n",
    "s = '-7899 hello'"
   ]
  },
  {
   "cell_type": "code",
   "execution_count": 11,
   "metadata": {},
   "outputs": [
    {
     "name": "stdout",
     "output_type": "stream",
     "text": [
      "-7899\n"
     ]
    }
   ],
   "source": [
    "m = re.match(pattern,s)\n",
    "if not m:\n",
    "    print(0)\n",
    "else:\n",
    "    print(int(m.group(0)))"
   ]
  },
  {
   "cell_type": "code",
   "execution_count": 20,
   "metadata": {},
   "outputs": [],
   "source": [
    "result1 = re.search(\"ll\",'hello').span()[0]"
   ]
  },
  {
   "cell_type": "code",
   "execution_count": 21,
   "metadata": {},
   "outputs": [
    {
     "data": {
      "text/plain": [
       "2"
      ]
     },
     "execution_count": 21,
     "metadata": {},
     "output_type": "execute_result"
    }
   ],
   "source": [
    "result1"
   ]
  },
  {
   "cell_type": "code",
   "execution_count": 43,
   "metadata": {},
   "outputs": [],
   "source": [
    "def isHappy(n):\n",
    "    def becomeHappy(n):\n",
    "        digits = len(str(n))\n",
    "        sparse = []\n",
    "        for digit in str(n):\n",
    "            sparse.append(int(digit))\n",
    "        result = sum(list(map(lambda x: x**2, sparse)))\n",
    "        return result\n",
    "    try:\n",
    "        if n != becomeHappy(n):\n",
    "            n = becomeHappy(n)\n",
    "            return isHappy(n)\n",
    "        else:\n",
    "            return True\n",
    "    except:\n",
    "        return False"
   ]
  },
  {
   "cell_type": "code",
   "execution_count": 44,
   "metadata": {},
   "outputs": [
    {
     "data": {
      "text/plain": [
       "False"
      ]
     },
     "execution_count": 44,
     "metadata": {},
     "output_type": "execute_result"
    }
   ],
   "source": [
    "isHappy(37)"
   ]
  },
  {
   "cell_type": "code",
   "execution_count": 138,
   "metadata": {},
   "outputs": [],
   "source": [
    "def maxSubarray(nums):\n",
    "    if len(nums) <= 1:\n",
    "            return sum(nums)\n",
    "    buffer = sum(nums)\n",
    "    left = 0\n",
    "    right = len(nums)\n",
    "    while left+1 < right:\n",
    "        if sum(nums[left+1:right]) > sum(nums[left:right-1]):\n",
    "            buffer = max([sum(nums[left+1:right]),buffer])\n",
    "            left = left+1\n",
    "        else:\n",
    "            buffer = max([sum(nums[left:right-1]),buffer])\n",
    "            right = right-1\n",
    "    return buffer\n",
    "            "
   ]
  },
  {
   "cell_type": "code",
   "execution_count": 145,
   "metadata": {},
   "outputs": [
    {
     "data": {
      "text/plain": [
       "6"
      ]
     },
     "execution_count": 145,
     "metadata": {},
     "output_type": "execute_result"
    }
   ],
   "source": [
    "maxSubArray(nums)"
   ]
  },
  {
   "cell_type": "code",
   "execution_count": 143,
   "metadata": {},
   "outputs": [],
   "source": [
    "nums =[1,2,-1,-2,2,1,-2,1,4,-5,4]\n",
    "def maxSubArray(nums):\n",
    "        for i in range(1, len(nums)):\n",
    "            if nums[i-1] > 0:\n",
    "                nums[i] += nums[i-1]\n",
    "        return max(nums)"
   ]
  },
  {
   "cell_type": "code",
   "execution_count": 186,
   "metadata": {},
   "outputs": [],
   "source": [
    "def groupAnagrams(strs):\n",
    "    sparse_dict = {}\n",
    "    if len(strs) <=1:\n",
    "        return [strs]\n",
    "    else:\n",
    "        for word in strs:\n",
    "            sparse = str(sorted(list(word)))\n",
    "            if sparse not in sparse_dict.keys():\n",
    "                sparse_dict[sparse] = [word]\n",
    "            else:\n",
    "                sparse_dict[sparse].append(word)\n",
    "        return list(sparse_dict.values())"
   ]
  },
  {
   "cell_type": "markdown",
   "metadata": {},
   "source": [
    "<h3><font color=#1661AB>Count and Say</font color=#1661AB></h3>\n",
    "<p>1 is read off as \"one 1\" or 11.\n",
    "<p>11 is read off as \"two 1s\" or 21.\n",
    "<p>21 is read off as \"one 2, then one 1\" or 1211.\n",
    "\n",
    "<p>Given an integer n where 1 ≤ n ≤ 30, generate the nth term of the count-and-say sequence. You can do so recursively, in other words from the previous member read off the digits, counting the number of digits in groups of the same digit.\n",
    "\n",
    "<p>Note: Each term of the sequence of integers will be represented as a string.\n",
    "<p><font color=#207F4C>Hint: To generate the nth term, just count and say the n-1th term.</font color=#207F4C>"
   ]
  },
  {
   "cell_type": "code",
   "execution_count": 333,
   "metadata": {},
   "outputs": [],
   "source": [
    "def countAndSay(n):\n",
    "    def say(term):\n",
    "        lst_n = list(map(lambda x: int(x),list(term)))\n",
    "        lst_n.append(0)\n",
    "        i=0\n",
    "        j=1\n",
    "        count = 1\n",
    "        while i<j and i<len(lst_n)and j<len(lst_n):\n",
    "            if lst_n[j] == lst_n[i]:\n",
    "                count = count + 1\n",
    "                lst_n.pop(j)\n",
    "            else:\n",
    "                lst_n.insert(i,count)\n",
    "                count = 1\n",
    "                i = j+1\n",
    "                j = i+1\n",
    "        lst_n.pop(-1)\n",
    "        return \"\".join(list(map(lambda x:str(x),lst_n)))\n",
    "    \n",
    "    if n == 1:\n",
    "        return \"1\"\n",
    "    if n == 2:\n",
    "        return \"11\"\n",
    "    if n > 2:\n",
    "        return say(countAndSay(n-1))\n",
    "    "
   ]
  },
  {
   "cell_type": "code",
   "execution_count": 350,
   "metadata": {},
   "outputs": [],
   "source": [
    "def longestCommonPrefix(strs):\n",
    "    if len(strs) == 0:\n",
    "        return \"\"\n",
    "    elif len(strs) == 1:\n",
    "        return strs[0]\n",
    "    else:\n",
    "        result=[]\n",
    "        strs_sparse = list(map(lambda x: list(x), strs))\n",
    "        if min(list(map(lambda x: len(x),strs_sparse))) == 0:\n",
    "            return \"\"\n",
    "        else:\n",
    "            for j in range(min(list(map(lambda x: len(x),strs_sparse)))):\n",
    "                ticker = True\n",
    "                for i in range(1,len(strs)):\n",
    "                    if strs_sparse[i][j] != strs_sparse[0][j]:\n",
    "                        ticker = False\n",
    "                        return \"\".join(result)\n",
    "                if ticker:\n",
    "                    result.append(strs_sparse[i][j])\n",
    "        return \"\".join(result)\n",
    "                "
   ]
  },
  {
   "cell_type": "code",
   "execution_count": 352,
   "metadata": {},
   "outputs": [],
   "source": [
    " def countElements(arr):\n",
    "        arr = sorted(arr)\n",
    "        if len(arr)<=1:\n",
    "            return 0\n",
    "        count = 0\n",
    "        for num in arr:\n",
    "            if num + 1 in arr:\n",
    "                count = count + 1\n",
    "        return count"
   ]
  },
  {
   "cell_type": "code",
   "execution_count": 357,
   "metadata": {},
   "outputs": [
    {
     "data": {
      "text/plain": [
       "2"
      ]
     },
     "execution_count": 357,
     "metadata": {},
     "output_type": "execute_result"
    }
   ],
   "source": [
    "arr = [1,1,2,2]\n",
    "countElements(arr)"
   ]
  },
  {
   "cell_type": "markdown",
   "metadata": {},
   "source": [
    "<h3><font color=#1661AB>Middle of the Linked List</font color=#1661AB></h3>\n",
    "<p>Given a non-empty, singly linked list with head node head, return a middle node of linked list."
   ]
  },
  {
   "cell_type": "code",
   "execution_count": null,
   "metadata": {},
   "outputs": [],
   "source": [
    "#my answer\n",
    "def middleNode(head):\n",
    "    def indexing(node):\n",
    "        if not node:\n",
    "            return 0\n",
    "        return 1+indexing(node.next)\n",
    "    length = indexing(head)\n",
    "    if length == 1:\n",
    "        return head\n",
    "    for i in range((length//2)-1):\n",
    "        head.next = head.next.next\n",
    "    return head.next"
   ]
  },
  {
   "cell_type": "markdown",
   "metadata": {},
   "source": [
    "We need two pointers, one is head with one step each iteration, and the other is tmp with two steps each iteration. So when the tmp reaches the end of the list, the head just reaches the half of it, which is exactly what we want."
   ]
  },
  {
   "cell_type": "code",
   "execution_count": 359,
   "metadata": {},
   "outputs": [],
   "source": [
    "#好聪明啊！！！！\n",
    "def middleNode(head):\n",
    "    tmp = head\n",
    "    while tmp and tmp.next:\n",
    "        head = head.next\n",
    "        tmp = tmp.next.next\n",
    "    return head"
   ]
  },
  {
   "cell_type": "code",
   "execution_count": 6,
   "metadata": {},
   "outputs": [],
   "source": [
    "def backspaceCompare(S,T):\n",
    "    def process(S):\n",
    "        buffer = []\n",
    "        for letter in S:\n",
    "            if letter == \"#\" and len(buffer) >= 1:\n",
    "                buffer.pop(-1)\n",
    "            elif letter == \"#\":\n",
    "                continue\n",
    "            else:\n",
    "                buffer.append(letter)\n",
    "        return buffer\n",
    "    buffers = process(S)\n",
    "    buffert = process(T)\n",
    "    return buffers==buffert\n",
    "            "
   ]
  },
  {
   "cell_type": "markdown",
   "metadata": {},
   "source": [
    "这题实际上实现了stack这样一个结构：if not 出，进，if 出，删除最后一个"
   ]
  },
  {
   "cell_type": "markdown",
   "metadata": {},
   "source": [
    "<h3><font color=#1661AB>Top k frequent keywords</font color=#1661AB></h3>\n",
    "Given a list of reviews, a list of keywords and an integer k. Find the most popular k keywords in order of most to least frequently mentioned.\n",
    "\n",
    "The comparison of strings is case-insensitive.\n",
    "Multiple occurances of a keyword in a review should be considred as a single mention.\n",
    "If keywords are mentioned an equal number of times in reviews, sort alphabetically."
   ]
  },
  {
   "cell_type": "markdown",
   "metadata": {},
   "source": [
    "Input:\n",
    "k = 2\n",
    "keywords = [\"anacell\", \"cetracular\", \"betacellular\"]\n",
    "reviews = [\n",
    "  \"Anacell provides the best services in the city\",\n",
    "  \"betacellular has awesome services\",\n",
    "  \"Best services provided by anacell, everyone should use anacell\",\n",
    "]\n",
    "\n",
    "Output:\n",
    "[\"anacell\", \"betacellular\"]\n",
    "\n",
    "Explanation:\n",
    "\"anacell\" is occuring in 2 different reviews and \"betacellular\" is only occuring in 1 review."
   ]
  },
  {
   "cell_type": "code",
   "execution_count": 31,
   "metadata": {},
   "outputs": [],
   "source": [
    "k = 2 \n",
    "keywords = [\"anacell\", \"cetracular\", \"betacellular\"] \n",
    "reviews = [ \"Anacell provides the best services in the city\", \"betacellular has awesome services\", \"Best services provided by anacell, everyone should use anacell\" ]"
   ]
  },
  {
   "cell_type": "code",
   "execution_count": 35,
   "metadata": {},
   "outputs": [],
   "source": [
    "def topKkeyword(k,keywords,reviews):\n",
    "    if len(keywords) <= k:\n",
    "        return keywords\n",
    "    frequency = {}\n",
    "    for keyword in keywords:\n",
    "        if keyword not in frequency.keys():\n",
    "            frequency[keyword] = 0\n",
    "        for review in reviews:\n",
    "            if keyword in review.lower():\n",
    "                frequency[keyword] = frequency[keyword] + 1\n",
    "    return([key for key,value in sorted(frequency.items(), key=lambda x: x[1],reverse=True)])[0:k]    "
   ]
  },
  {
   "cell_type": "code",
   "execution_count": 36,
   "metadata": {},
   "outputs": [
    {
     "data": {
      "text/plain": [
       "['anacell', 'betacellular']"
      ]
     },
     "execution_count": 36,
     "metadata": {},
     "output_type": "execute_result"
    }
   ],
   "source": [
    " topKkeyword(k,keywords,reviews)"
   ]
  },
  {
   "cell_type": "code",
   "execution_count": null,
   "metadata": {},
   "outputs": [],
   "source": [
    "def topKFrequent(self, nums: List[int], k: int) -> List[int]:\n",
    "        frequency = {}\n",
    "        for num in nums:\n",
    "            if num not in frequency.keys():\n",
    "                frequency[num] = 1\n",
    "            else:\n",
    "                frequency[num] = frequency[num] + 1\n",
    "        return [key for key,value in sorted(frequency.items(),key=lambda x: x[1],reverse=True)][0:k]"
   ]
  },
  {
   "cell_type": "markdown",
   "metadata": {},
   "source": [
    "<h3><font color=#1661AB>Zombie in Matrix</font color=#1661AB></h3>\n",
    "Given a 2D grid, each cell is either a zombie 1 or a human 0. Zombies can turn adjacent (up/down/left/right) human beings into zombies every hour. Find out how many hours does it take to infect all humans?"
   ]
  },
  {
   "cell_type": "code",
   "execution_count": 37,
   "metadata": {},
   "outputs": [],
   "source": [
    "grid = [[0, 1, 1, 0, 1],\n",
    " [0, 1, 0, 1, 0],\n",
    " [0, 0, 0, 0, 1],\n",
    " [0, 1, 0, 0, 0]]"
   ]
  },
  {
   "cell_type": "code",
   "execution_count": 123,
   "metadata": {},
   "outputs": [],
   "source": [
    "def minHours(grid):\n"
   ]
  },
  {
   "cell_type": "markdown",
   "metadata": {},
   "source": [
    "<h3><font color=#1661AB>Rotting Orange</font color=#1661AB></h3>\n",
    "In a given grid, each cell can have one of three values:\n",
    "\n",
    "the value 0 representing an empty cell;\n",
    "the value 1 representing a fresh orange;\n",
    "the value 2 representing a rotten orange.\n",
    "Every minute, any fresh orange that is adjacent (4-directionally) to a rotten orange becomes rotten.\n",
    "\n",
    "Return the minimum number of minutes that must elapse until no cell has a fresh orange.  If this is impossible, return -1 instead."
   ]
  },
  {
   "cell_type": "code",
   "execution_count": 112,
   "metadata": {},
   "outputs": [],
   "source": [
    "grid = [[1]]"
   ]
  },
  {
   "cell_type": "code",
   "execution_count": 121,
   "metadata": {},
   "outputs": [],
   "source": [
    "def orangesRotting(grid):\n",
    "    row = len(grid)\n",
    "    column = len(grid[0])\n",
    "\n",
    "    rotten = set()\n",
    "    fresh = set()\n",
    "\n",
    "    time = 0\n",
    "\n",
    "    for i in range(row):\n",
    "        for j in range(column):\n",
    "            if grid[i][j] == 1:\n",
    "                fresh.add((i,j))\n",
    "            if grid[i][j] == 2:\n",
    "                rotten.add((i,j))\n",
    "\n",
    "    if (not fresh):\n",
    "            return time\n",
    "    elif (not rotten):\n",
    "        return -1\n",
    "\n",
    "    while len(fresh)>0:\n",
    "        ans = set()\n",
    "        for (x,y) in fresh:\n",
    "            if (x+1,y) in rotten or (x,y+1) in rotten or (x-1,y) in rotten or (x,y-1) in rotten:\n",
    "                ans.add((x,y))\n",
    "        fresh = fresh - ans\n",
    "        rotten.update(ans)\n",
    "        if ans == []:\n",
    "            return -1\n",
    "        time = time + 1\n",
    "    return time"
   ]
  },
  {
   "cell_type": "code",
   "execution_count": 122,
   "metadata": {},
   "outputs": [
    {
     "data": {
      "text/plain": [
       "-1"
      ]
     },
     "execution_count": 122,
     "metadata": {},
     "output_type": "execute_result"
    }
   ],
   "source": [
    "orangesRotting(grid)"
   ]
  },
  {
   "cell_type": "code",
   "execution_count": 178,
   "metadata": {},
   "outputs": [],
   "source": [
    "products = [\"mobile\",\"mouse\",\"moneypot\",\"monitor\",\"mousepad\"]\n",
    "searchWord = \"mouse\""
   ]
  },
  {
   "cell_type": "code",
   "execution_count": 179,
   "metadata": {},
   "outputs": [],
   "source": [
    "def suggestedProducts(products, searchWord):\n",
    "        products.sort()\n",
    "        subset = products\n",
    "        result = []\n",
    "        for i in range(len(searchWord)):\n",
    "            subset = [x for x in subset if len(x) > i and x[i]==searchWord[i]]\n",
    "            result.append(subset[0:3])\n",
    "        return result"
   ]
  },
  {
   "cell_type": "code",
   "execution_count": 180,
   "metadata": {},
   "outputs": [
    {
     "data": {
      "text/plain": [
       "[['mobile', 'moneypot', 'monitor'],\n",
       " ['mobile', 'moneypot', 'monitor'],\n",
       " ['mouse', 'mousepad'],\n",
       " ['mouse', 'mousepad'],\n",
       " ['mouse', 'mousepad']]"
      ]
     },
     "execution_count": 180,
     "metadata": {},
     "output_type": "execute_result"
    }
   ],
   "source": [
    "suggestedProducts(products, searchWord)"
   ]
  },
  {
   "cell_type": "code",
   "execution_count": null,
   "metadata": {},
   "outputs": [],
   "source": [
    "def numIslands(grid):\n",
    "    if not grid:\n",
    "        return 0\n",
    "    count = 0\n",
    "    for i in range(len(grid)):\n",
    "        for j in range(len(grid[0])):\n",
    "            if grid[i][j] == '1':\n",
    "                dfs(grid, i, j)\n",
    "                count += 1\n",
    "    return count\n",
    "\n",
    "def dfs(grid, i, j):\n",
    "    if i<0 or j<0 or i>=len(grid) or j>=len(grid[0]) or grid[i][j] != '1':\n",
    "        return\n",
    "    #每次都检索上下左右四个格子，如果上下左右都没有未检索的陆地了，则计为一个岛\n",
    "    grid[i][j] = '#' #检索过的陆地用“#”标记\n",
    "    dfs(grid, i+1, j)\n",
    "    dfs(grid, i-1, j)\n",
    "    dfs(grid, i, j+1)\n",
    "    dfs(grid, i, j-1)\n",
    "    "
   ]
  },
  {
   "cell_type": "markdown",
   "metadata": {},
   "source": [
    "<h3><font color=#1661AB> Treasure Island</font color=#1661AB></h3>"
   ]
  },
  {
   "cell_type": "code",
   "execution_count": 182,
   "metadata": {},
   "outputs": [],
   "source": [
    "grid = [['O', 'O', 'O', 'O'],\n",
    " ['D', 'O', 'D', 'O'],\n",
    " ['O', 'O', 'O', 'O'],\n",
    " ['X', 'D', 'D', 'O']]"
   ]
  },
  {
   "cell_type": "code",
   "execution_count": null,
   "metadata": {},
   "outputs": [],
   "source": [
    "def searchTreasure(): "
   ]
  },
  {
   "cell_type": "markdown",
   "metadata": {},
   "source": [
    "<h3><font color=#1661AB>Partition Labels</font color=#1661AB></h3>\n",
    "A string S of lowercase English letters is given. We want to partition this string into as many parts as possible so that each letter appears in at most one part, and return a list of integers representing the size of these parts."
   ]
  },
  {
   "cell_type": "code",
   "execution_count": 181,
   "metadata": {},
   "outputs": [],
   "source": [
    "    def partitionLabels(S):\n",
    "        rightmost = {char:idx for idx,char in enumerate(S)} #好漂亮啊！！！！！\n",
    "        left, right = 0,0\n",
    "        result = []\n",
    "        \n",
    "        for i,letter in enumerate(S):\n",
    "            right = max(right,rightmost[letter])\n",
    "            \n",
    "            if i == right:\n",
    "                result.append(right-left+1)\n",
    "                left = i+1\n",
    "        \n",
    "        return result"
   ]
  },
  {
   "cell_type": "code",
   "execution_count": null,
   "metadata": {},
   "outputs": [],
   "source": [
    "def findNumberOfLIS(nums):\n",
    "    dp, longest = [[1, 1] for i in range(len(nums))], 1\n",
    "    for i, num in enumerate(nums):\n",
    "        curr_longest, count = 1, 0\n",
    "        for j in range(i):  \n",
    "            if nums[j] < num:\n",
    "                curr_longest = max(curr_longest, dp[j][0] + 1)\n",
    "        for j in range(i):\n",
    "            if dp[j][0] == curr_longest - 1 and nums[j] < num: #dp[j][0] == curr_longest - 1 说明是直接的preceed\n",
    "                count += dp[j][1] #计算直接preceed的数量 \n",
    "        dp[i] = [curr_longest, max(count, dp[i][1])]\n",
    "        longest = max(curr_longest, longest)\n",
    "        print(dp)\n",
    "    return sum([item[1] for item in dp if item[0] == longest])"
   ]
  },
  {
   "cell_type": "code",
   "execution_count": 268,
   "metadata": {},
   "outputs": [],
   "source": [
    "def findNumberOfLIS(nums):\n",
    "    dp = [[1, 1] for i in range(len(nums))]\n",
    "    max_for_all = 1\n",
    "    for i, num in enumerate(nums):\n",
    "        max_len, count = 1, 0\n",
    "        for j in range(i):\n",
    "            if nums[j] < num:\n",
    "                if dp[j][0] + 1 > max_len:\n",
    "                    max_len = dp[j][0] + 1\n",
    "                    count = 0 #找到新的最大值以后它就是唯一直接前驱\n",
    "                if dp[j][0] == max_len - 1:\n",
    "                    count += dp[j][1]         #把找直接前驱并在一个loop完成了\n",
    "        dp[i] = [max_len, max(count, dp[i][1])]\n",
    "        max_for_all = max(max_len, max_for_all)\n",
    "    return sum([item[1] for item in dp if item[0] == max_for_all])"
   ]
  },
  {
   "cell_type": "code",
   "execution_count": 269,
   "metadata": {},
   "outputs": [
    {
     "data": {
      "text/plain": [
       "2"
      ]
     },
     "execution_count": 269,
     "metadata": {},
     "output_type": "execute_result"
    }
   ],
   "source": [
    "nums = [1,3,5,4,7]\n",
    "findNumberOfLIS(nums)"
   ]
  },
  {
   "cell_type": "code",
   "execution_count": null,
   "metadata": {},
   "outputs": [],
   "source": [
    "ans = ListNode(0)\n",
    "h = ans\n",
    "for item in helper:\n",
    "        h.next = ListNode(item)\n",
    "        h = h.next"
   ]
  },
  {
   "cell_type": "code",
   "execution_count": null,
   "metadata": {},
   "outputs": [],
   "source": [
    "previous, current = None, head\n",
    "while current:\n",
    "    nextnode = current.next #nextNode is intact\n",
    "    current.next = previous\n",
    "    previous = current\n",
    "    current = nextnode"
   ]
  }
 ],
 "metadata": {
  "kernelspec": {
   "display_name": "Python 3",
   "language": "python",
   "name": "python3"
  },
  "language_info": {
   "codemirror_mode": {
    "name": "ipython",
    "version": 3
   },
   "file_extension": ".py",
   "mimetype": "text/x-python",
   "name": "python",
   "nbconvert_exporter": "python",
   "pygments_lexer": "ipython3",
   "version": "3.6.8"
  }
 },
 "nbformat": 4,
 "nbformat_minor": 2
}
