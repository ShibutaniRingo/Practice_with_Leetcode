{
 "cells": [
  {
   "cell_type": "code",
   "execution_count": 153,
   "metadata": {},
   "outputs": [],
   "source": [
    "def create_tables_sql():\n",
    "    return \"\"\"\n",
    "    create table salary (\n",
    "    id int,\n",
    "    employee_id int,\n",
    "    amount int,\n",
    "    pay_date date\n",
    "    );\n",
    "    create table employee (\n",
    "    employee_id int,\n",
    "    department_id int\n",
    "    );\n",
    "    \"\"\""
   ]
  },
  {
   "cell_type": "code",
   "execution_count": 154,
   "metadata": {},
   "outputs": [],
   "source": [
    "import sqlite3\n",
    "conn = sqlite3.connect(':memory:')\n",
    "c = conn.cursor()\n",
    "c.executescript(create_tables_sql())\n",
    "conn.commit()"
   ]
  },
  {
   "cell_type": "code",
   "execution_count": 157,
   "metadata": {},
   "outputs": [],
   "source": [
    "def insert_data_sql() -> str:\n",
    "    return\"\"\"\n",
    "    insert into salary values (1,1, 9000,\"2017-03-31\");\n",
    "    insert into salary values (2,2, 6000,\"2017-03-31\");\n",
    "    insert into salary values (3,3, 10000,\"2017-03-31\");\n",
    "    insert into salary values (4,1, 7000,\"2017-02-28\");\n",
    "    insert into salary values (5,2, 6000,\"2017-02-28\");\n",
    "    insert into salary values (6,3, 8000,\"2017-02-28\");\n",
    "    insert into employee values (1,1);\n",
    "    insert into employee values(2,2);\n",
    "    insert into employee values (3,2);\n",
    "    \"\"\""
   ]
  },
  {
   "cell_type": "code",
   "execution_count": 158,
   "metadata": {},
   "outputs": [],
   "source": [
    "c.executescript(insert_data_sql())\n",
    "conn.commit()"
   ]
  },
  {
   "cell_type": "code",
   "execution_count": 145,
   "metadata": {},
   "outputs": [],
   "source": [
    "def get_sql():\n",
    "    return \"\"\"\n",
    "        select distinct(s1.id), s1.visit_date,s1.people\n",
    "        from stadium s1,\n",
    "           stadium s2,\n",
    "           stadium s3\n",
    "        where \n",
    "            s1.people >= 100 and s2.people >= 100 and s3.people >= 100\n",
    "            and (\n",
    "            (s1.id = s2.id + 2 and s1.id = s3.id + 1) \n",
    "            or\n",
    "            (s1.id = s2.id + 1 and s1.id = s3.id - 1)\n",
    "            or\n",
    "            (s1.id = s2.id - 1 and s1.id = s3.id -2)\n",
    "            )\n",
    "            order by s1.id;\n",
    "    \"\"\""
   ]
  },
  {
   "cell_type": "code",
   "execution_count": 299,
   "metadata": {},
   "outputs": [],
   "source": [
    "def get_sql():\n",
    "    return \"\"\"\n",
    "        with average as (\n",
    "            select s.pay_date,e1.department_id,\n",
    "                avg(s.amount) as avg_salary\n",
    "            from salary s\n",
    "                join employee e1 on s.employee_id = e1.employee_id\n",
    "                group by e1.department_id,s.pay_date\n",
    "        ), total_avg as (\n",
    "             select s.pay_date,avg(s.amount) as 'total'\n",
    "             from salary s\n",
    "             group by s.pay_date\n",
    "        )\n",
    "         select strftime('%Y-%m',s.pay_date) as pay_month,\n",
    "            average.department_id,\n",
    "            (case when average.avg_salary > total then 'higher'\n",
    "                     when average.avg_salary < total then 'lower'\n",
    "                     else 'same'\n",
    "            end) as 'comparison'\n",
    "         from salary s\n",
    "             join average on s.pay_date = average.pay_date\n",
    "             join total_avg on s.pay_date = total_avg.pay_date\n",
    "             group by average.department_id,s.pay_date\n",
    "             order by s.pay_date desc;\n",
    "    \"\"\""
   ]
  },
  {
   "cell_type": "code",
   "execution_count": 300,
   "metadata": {},
   "outputs": [
    {
     "data": {
      "text/plain": [
       "[('2017-03', 1, 'higher'),\n",
       " ('2017-03', 2, 'lower'),\n",
       " ('2017-02', 1, 'same'),\n",
       " ('2017-02', 2, 'same')]"
      ]
     },
     "execution_count": 300,
     "metadata": {},
     "output_type": "execute_result"
    }
   ],
   "source": [
    "c.execute(get_sql())\n",
    "result = c.fetchall()\n",
    "result"
   ]
  },
  {
   "cell_type": "code",
   "execution_count": null,
   "metadata": {},
   "outputs": [],
   "source": []
  },
  {
   "cell_type": "code",
   "execution_count": null,
   "metadata": {},
   "outputs": [],
   "source": []
  }
 ],
 "metadata": {
  "kernelspec": {
   "display_name": "Python 3",
   "language": "python",
   "name": "python3"
  },
  "language_info": {
   "codemirror_mode": {
    "name": "ipython",
    "version": 3
   },
   "file_extension": ".py",
   "mimetype": "text/x-python",
   "name": "python",
   "nbconvert_exporter": "python",
   "pygments_lexer": "ipython3",
   "version": "3.6.8"
  }
 },
 "nbformat": 4,
 "nbformat_minor": 2
}
