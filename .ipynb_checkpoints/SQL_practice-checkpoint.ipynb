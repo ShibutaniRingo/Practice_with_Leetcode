{
 "cells": [
  {
   "cell_type": "markdown",
   "metadata": {},
   "source": [
    "<h1><font color=#1661AB>SQL Practice</font color=#1661AB></h1>"
   ]
  },
  {
   "cell_type": "markdown",
   "metadata": {},
   "source": [
    "<h3><font color=#1661AB>Second Highest Salary</font color=#1661AB></h3>\n",
    "<p>Write a SQL <strong>query</strong> to get the second highest salary from the Employee table.\n",
    "<p>If there is no second highest salary, then the query should return null."
   ]
  },
  {
   "cell_type": "markdown",
   "metadata": {},
   "source": [
    "<font color=#5A191B>\n",
    "<p>SELECT (\n",
    "<p>    SELECT DISTINCT e.Salary \n",
    "<p>    FROM Employee e\n",
    "<p>    ORDER BY e.Salary DESC \n",
    "<p>    LIMIT 1 OFFSET 1 ) \n",
    "<p>AS \"SecondHighestSalary\";\n"
   ]
  },
  {
   "cell_type": "markdown",
   "metadata": {},
   "source": [
    "<font color=#207F4C>\n",
    "Mark: 本题的知识点在于offset参考和limit选择条数\n",
    "\n"
   ]
  },
  {
   "cell_type": "markdown",
   "metadata": {},
   "source": [
    " "
   ]
  },
  {
   "cell_type": "markdown",
   "metadata": {},
   "source": [
    "<h3><font color=#1661AB>N-th Highest Salary</font color=#1661AB></h3>\n",
    "<p>Write a SQL <strong>Function</strong> to get the second highest salary from the Employee table.\n",
    "<p>If there is no second highest salary, then the query should return null."
   ]
  },
  {
   "cell_type": "markdown",
   "metadata": {},
   "source": [
    "<font color=#5A191B>\n",
    "<p>CREATE FUNCTION getNthHighestSalary(N INT) RETURNS INT\n",
    "<p>BEGIN\n",
    "<p>DECLARE miu INT;\n",
    "<p>SET miu = N - 1;\n",
    "<p>  RETURN (\n",
    "<p>      SELECT DISTINCT e.Salary\n",
    "<p>      FROM Employee e\n",
    "<p>      ORDER BY e.Salary DESC\n",
    "<p>      LIMIT 1 OFFSET miu\n",
    "<p>  );\n",
    "<p>END"
   ]
  },
  {
   "cell_type": "markdown",
   "metadata": {},
   "source": [
    "<font color=#207F4C>\n",
    "Mark: 本题在于SQL function"
   ]
  },
  {
   "cell_type": "markdown",
   "metadata": {},
   "source": [
    " "
   ]
  },
  {
   "cell_type": "markdown",
   "metadata": {},
   "source": [
    "<h3><font color=#1661AB>N-th Highest Salary</font color=#1661AB></h3>\n",
    "<p>Write a SQL <strong>Function</strong> to get the second highest salary from the Employee table.\n",
    "<p>If there is no second highest salary, then the query should return null."
   ]
  },
  {
   "cell_type": "markdown",
   "metadata": {},
   "source": [
    "<font color=#5A191B>\n",
    "<p>\"\"\"\n",
    "<p>SELECT s.Score, \n",
    "<p>    (SELECT COUNT(DISTINCT(s2.Score))\n",
    "<p>        FROM Scores s2\n",
    "<p>        WHERE s2.Score > s.Score) +1\n",
    "<p>        AS Rank\n",
    "<p>FROM Scores s ORDER BY s.Score DESC;\n",
    "<p>\"\"\"\n",
    " <p><font color=#207F4C>Mark: 排序算法：实际上是数有几个不重复比他大的数"
   ]
  },
  {
   "cell_type": "markdown",
   "metadata": {},
   "source": [
    " "
   ]
  },
  {
   "cell_type": "markdown",
   "metadata": {},
   "source": [
    "<h3><font color=#1661AB>Consecutive Number</font color=#1661AB></h3>\n",
    "<p>Write a SQL query to find all numbers that appear at least three times consecutively."
   ]
  },
  {
   "cell_type": "markdown",
   "metadata": {},
   "source": [
    "<font color=#5A191B>\n",
    "<p>select distinct(l1.Num) as 'ConsecutiveNums'\n",
    "<p>from Logs l1 \n",
    "<p>    left join Logs l2 on l2.Id = l1.Id +1\n",
    "<p>    left join Logs l3 on l3.Id = l1.Id +2\n",
    "<p>    where l1.Num = l2.Num and l1.Num = l3.Num; \n"
   ]
  },
  {
   "cell_type": "markdown",
   "metadata": {},
   "source": [
    " "
   ]
  },
  {
   "cell_type": "markdown",
   "metadata": {},
   "source": [
    "<h3><font color=#1661AB>Human Traffic of Stadium</font color=#1661AB></h3>\n",
    "<p>Please write a query to display the records which have 3 or more consecutive rows and the amount of people more than 100(inclusive)."
   ]
  },
  {
   "cell_type": "markdown",
   "metadata": {},
   "source": [
    "<font color=#5A191B>\n",
    "<p>select distinct(s1.id), s1.visit_date,s1.people\n",
    "<p>from stadium s1, stadium s2, stadium s3\n",
    "<p>where (s1.people >= 100 and s2.people >= 100 and s3.people >= 100)\n",
    "<p>    and\n",
    "<p>(\n",
    " <p>   (s1.id = s2.id-1 and s1.id = s3.id-2)\n",
    "<p>    or\n",
    "<p>    (s1.id = s2.id-1 and s1.id = s3.id+1)\n",
    "<p>    or\n",
    "<p>    (s1.id = s2.id+1 and s1.id = s3.id+2)\n",
    "<p>)\n",
    "<p>order by s1.id;\n",
    "<p><font color=#999999>(此处有一个陷阱：三条连续记录而非三个连续日期，被这个fail了3次OTZ)"
   ]
  },
  {
   "cell_type": "markdown",
   "metadata": {},
   "source": [
    "<font color=#207F4C>Mark: 区别上面两题：列举出连续出现的数（<font color=#42602D><strong>唯一地：只要判断它在第一个</strong><font color=#207F4C>）和列举出满足条件的<font color=#42602D><strong>所有</strong><font color=#207F4C>连续出现的记录（它在三连首或者中间或者尾都符合）"
   ]
  },
  {
   "cell_type": "markdown",
   "metadata": {},
   "source": [
    " "
   ]
  },
  {
   "cell_type": "markdown",
   "metadata": {},
   "source": [
    "<h3><font color=#1661AB>Exchange Seats</font color=#1661AB></h3>\n",
    "<p>Mary is a teacher in a middle school and she has a table seat storing students' names and their corresponding seat ids. The column id is continuous increment. Mary wants to change seats for the adjacent students.\n",
    "Note: If the number of students is odd, there is no need to change the last one's seat."
   ]
  },
  {
   "cell_type": "markdown",
   "metadata": {},
   "source": [
    "<font color=#5A191B>\n",
    "<p>select s1.id,  ifnull((case \n",
    "<p>    when mod(s1.id,2) = 1 \n",
    "<p>                then (select s2.student from seat s2 where s2.id = s1.id + 1)\n",
    "<p>    when mod(s1.id,2) = 0 \n",
    "<p>                then (select s2.student from seat s2 where s2.id = s1.id - 1)\n",
    "<p>    end), s1.student) as \"student\"\n",
    "<p>from seat s1;"
   ]
  },
  {
   "cell_type": "markdown",
   "metadata": {},
   "source": [
    "<font color=#207F4C>Mark: 本题的点在于IfNull的用法，注意在MySQL中和在SQLite中是不同的，SQLite是IsNull"
   ]
  },
  {
   "cell_type": "markdown",
   "metadata": {},
   "source": [
    " "
   ]
  },
  {
   "cell_type": "markdown",
   "metadata": {},
   "source": [
    "<h3><font color=#1661AB>Trips and Users</font color=#1661AB></h3>\n",
    "<p>The Trips table holds all taxi trips. Each trip has a unique Id, while Client_Id and Driver_Id are both foreign keys to the Users_Id at the Users table. Status is an ENUM type of (‘completed’, ‘cancelled_by_driver’, ‘cancelled_by_client’).\n",
    "<p>\n",
    "<p>The Users table holds all users. Each user has an unique Users_Id, and Role is an ENUM type of (‘client’, ‘driver’, ‘partner’).\n",
    "<p>\n",
    "<p>Write a SQL query to find the cancellation rate of requests made by unbanned users (both client and driver must be unbanned) between Oct 1, 2013 and Oct 3, 2013. The cancellation rate is computed by dividing the number of canceled (by client or driver) requests made by unbanned users by the total number of requests made by unbanned users.\n",
    "<p>\n",
    "<p>For the above tables, your SQL query should return the following rows with the cancellation rate being rounded to two decimal places."
   ]
  },
  {
   "cell_type": "markdown",
   "metadata": {},
   "source": [
    "<font color=#5A191B>\n",
    "<p>Select t.Request_at as 'Day', \n",
    "<p>    round (sum(case \n",
    "<p>            when (t.Status != 'completed') then 1\n",
    "<p>            else 0\n",
    "<p>         end)\n",
    "<p>     /count(*), 2) \n",
    "<p>    as 'Cancellation Rate'\n",
    "<p>from Trips t \n",
    "<p>    left join Users u1 on u1.Users_Id = t.Client_Id\n",
    "<p>    left join Users u2 on u2.Users_Id = t.Driver_Id\n",
    "<p>where u1.Banned = 'No' and u2.Banned = 'No'\n",
    "<p>    and t.Request_at between '2013-10-01' and '2013-10-03'\n",
    "<p>group by t.Request_at;"
   ]
  },
  {
   "cell_type": "markdown",
   "metadata": {},
   "source": [
    "<font color=#207F4C>Mark: 本题的细小知识点较多\n",
    "<ol>\n",
    "    <li>where 与 group by, order by 如何复合\n",
    "    <li>round 的用法\n",
    "    <li>between的用法（可能还涉及日期reformat问题）\n",
    " </ol>"
   ]
  },
  {
   "cell_type": "code",
   "execution_count": null,
   "metadata": {},
   "outputs": [],
   "source": []
  }
 ],
 "metadata": {
  "kernelspec": {
   "display_name": "Python 3",
   "language": "python",
   "name": "python3"
  },
  "language_info": {
   "codemirror_mode": {
    "name": "ipython",
    "version": 3
   },
   "file_extension": ".py",
   "mimetype": "text/x-python",
   "name": "python",
   "nbconvert_exporter": "python",
   "pygments_lexer": "ipython3",
   "version": "3.6.8"
  }
 },
 "nbformat": 4,
 "nbformat_minor": 2
}
